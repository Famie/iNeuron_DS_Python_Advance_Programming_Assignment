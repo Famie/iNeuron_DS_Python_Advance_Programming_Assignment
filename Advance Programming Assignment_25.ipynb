{
 "cells": [
  {
   "cell_type": "markdown",
   "metadata": {},
   "source": [
    "# Advance Programming Assignment 25"
   ]
  },
  {
   "cell_type": "code",
   "execution_count": 1,
   "metadata": {},
   "outputs": [
    {
     "data": {
      "text/plain": [
       "[1, 3, 4]"
      ]
     },
     "execution_count": 1,
     "metadata": {},
     "output_type": "execute_result"
    }
   ],
   "source": [
    "#1. Write four functions that directly mutate a list:\n",
    "#1. repeat(lst, n): Repeat lst n times.\n",
    "#2. add(lst, x): Adds x to the end of the lst.\n",
    "#3. remove(lst, m, n): Removes all elements between indices m and n\n",
    "#inclusive in lst.\n",
    "#4. concat(lst, x): concatenates lst with x (another list).\n",
    "def repeat(lst, num):\n",
    "  tmp_lst = []\n",
    "  for i in range(1, num):\n",
    "    tmp_lst += lst\n",
    "  lst.extend(tmp_lst)\n",
    "  return lst\n",
    "\n",
    "def add(lst, num):\n",
    "  lst.append(num)\n",
    "  return lst\n",
    "\n",
    "def remove(lst, start, end):\n",
    "  del lst[start-1:end]\n",
    "  return lst\n",
    "\n",
    "def concat(lst, sub_lst):\n",
    "  for i in sub_lst:\n",
    "    lst.append(i)\n",
    "  return lst\n",
    "\n",
    "lst = [1, 2, 3, 4]\n",
    "repeat(lst, 3)\n",
    "add(lst, 1)\n",
    "remove(lst, 1, 12) \n",
    "concat(lst, [3, 4]) "
   ]
  },
  {
   "cell_type": "code",
   "execution_count": 11,
   "metadata": {},
   "outputs": [
    {
     "data": {
      "text/plain": [
       "{'black': 0, 'white': 2}"
      ]
     },
     "execution_count": 11,
     "metadata": {},
     "output_type": "execute_result"
    }
   ],
   "source": [
    "#2. The classic game of Mastermind is played on a tray on which the Mastermind conceals a code and the Guesser has 10 \n",
    "# tries to guess it. The code is a sequence of 4 (or 6, sometimes more) pegs of different colors. Each guess is a \n",
    "# corresponding sequence of 4 (or more) pegs of different colors. A guess is \"correct\" when the color of every peg \n",
    "# in the guess exactly matches the corresponding peg in the Mastermind's code.\n",
    "def guess_score(code, guess):\n",
    "    score_dict = {\"black\": 0, \"white\" : 0}\n",
    "    matching_index = []\n",
    "    #first try to match number on same location between code and guess\n",
    "    for i in range(0, len(code)):\n",
    "        if (code[i]==guess[i]):\n",
    "            score_dict[\"black\"] += 1\n",
    "            matching_index.append(i)\n",
    "    #Now match number on any location between code and guess\n",
    "    for i in range(0, len(guess)):\n",
    "        if (guess[i] in code):\n",
    "            if (code.index(guess[i]) not in matching_index):\n",
    "                score_dict[\"white\"] += 1\n",
    "                matching_index.append(code.index(guess[i]))\n",
    "    return score_dict\n",
    "guess_score(\"1423\", \"2211\") "
   ]
  },
  {
   "cell_type": "code",
   "execution_count": 12,
   "metadata": {},
   "outputs": [
    {
     "name": "stdout",
     "output_type": "stream",
     "text": [
      "None\n"
     ]
    }
   ],
   "source": [
    "#3. Create a function that takes a list lst and a number N and returns a list of two integers from lst whose product equals N.\n",
    "def two_product(lst_val, N):\n",
    "    tmp_lst_val = []\n",
    "    for i in range(0, len(lst_val)-1):\n",
    "        for j in range(i+1,len(lst_val)):\n",
    "            if (lst_val[i]*lst_val[j] == N):\n",
    "                tmp_lst_val.append(lst_val[i])\n",
    "                tmp_lst_val.append(lst_val[j])\n",
    "                return tmp_lst_val\n",
    "    return\n",
    "\n",
    "\n",
    "print(two_product([100, 12, 4, 1, 2], 15))\n",
    "                "
   ]
  },
  {
   "cell_type": "code",
   "execution_count": 18,
   "metadata": {},
   "outputs": [
    {
     "data": {
      "text/plain": [
       "['01-01-1999_00:55', '09-02-2000_10:03', '10-02-2000_18:29']"
      ]
     },
     "execution_count": 18,
     "metadata": {},
     "output_type": "execute_result"
    }
   ],
   "source": [
    "#4. In this challenge, sort a list containing a series of dates given as strings. Each date is given in the \n",
    "# format DD-MM-YYYY_HH:MM\n",
    "from datetime import datetime\n",
    "def sort_dates(date_str_lst_val,sort_mode):\n",
    "    date_lst_val = []\n",
    "    new_date_str_lst_val = []\n",
    "    for date_str in date_str_lst_val:\n",
    "         date_lst_val.append(datetime.strptime(date_str, '%d-%m-%Y_%H:%M'))\n",
    "    if (sort_mode != \"DSC\"):\n",
    "        date_lst_val = sorted(date_lst_val)\n",
    "    else:\n",
    "        date_lst_val = sorted(date_lst_val, reverse=True)\n",
    "    for curr_date in date_lst_val:\n",
    "        new_date_str_lst_val.append(curr_date.strftime(\"%d-%m-%Y_%H:%M\"))\n",
    "    return new_date_str_lst_val\n",
    "\n",
    "sort_dates([\"09-02-2000_10:03\", \"10-02-2000_18:29\", \"01-01-1999_00:55\"], \"ASC\")\n",
    "    "
   ]
  },
  {
   "cell_type": "code",
   "execution_count": 28,
   "metadata": {},
   "outputs": [
    {
     "data": {
      "text/plain": [
       "['hoops', 'bot', 'bottom']"
      ]
     },
     "execution_count": 28,
     "metadata": {},
     "output_type": "execute_result"
    }
   ],
   "source": [
    "#5. Write a function that selects all words that have all the same vowels (in any order and/or number) as the first word, \n",
    "# including the first word.\n",
    "\n",
    "def same_vowel_group(word_lst_val):\n",
    "    vowels = \"aeiou\"\n",
    "    same_vowel_group_word_lst = []\n",
    "    first_word = word_lst_val[0]\n",
    "    first_word_vowel_lst=[]\n",
    "    for char in first_word:\n",
    "        if (char in vowels and char not in first_word_vowel_lst):\n",
    "            first_word_vowel_lst.append(char)\n",
    "    first_word_vowel_lst.sort()\n",
    "    for word in word_lst_val:\n",
    "        tmp_word_vowel_lst = []\n",
    "        for char in word:\n",
    "            if char in vowels and char not in tmp_word_vowel_lst:\n",
    "                tmp_word_vowel_lst.append(char)\n",
    "        tmp_word_vowel_lst.sort()\n",
    "        if (first_word_vowel_lst == tmp_word_vowel_lst):\n",
    "            same_vowel_group_word_lst.append(word)\n",
    "    return same_vowel_group_word_lst\n",
    "same_vowel_group([\"hoops\", \"chuff\", \"bot\", \"bottom\"]) \n"
   ]
  },
  {
   "cell_type": "code",
   "execution_count": 24,
   "metadata": {},
   "outputs": [
    {
     "data": {
      "text/plain": [
       "2333760"
      ]
     },
     "execution_count": 24,
     "metadata": {},
     "output_type": "execute_result"
    }
   ],
   "source": [
    "#6. Create a function that takes a list of more than three numbers and returns the Least Common Multiple (LCM)\n",
    "\n",
    "def lcm_of_list(lst_val):\n",
    "  max_val = max(lst_val)  \n",
    "  while(True):\n",
    "    is_lcm = True\n",
    "    for i in lst_val:\n",
    "      if max_val % i != 0:\n",
    "        is_lcm = False\n",
    "        break    \n",
    "    if is_lcm:\n",
    "      return max_val\n",
    "    max_val += 1\n",
    "\n",
    "lcm_of_list([44, 64, 12, 17, 65])"
   ]
  },
  {
   "cell_type": "code",
   "execution_count": null,
   "metadata": {},
   "outputs": [],
   "source": []
  }
 ],
 "metadata": {
  "kernelspec": {
   "display_name": "Python 3",
   "language": "python",
   "name": "python3"
  },
  "language_info": {
   "codemirror_mode": {
    "name": "ipython",
    "version": 3
   },
   "file_extension": ".py",
   "mimetype": "text/x-python",
   "name": "python",
   "nbconvert_exporter": "python",
   "pygments_lexer": "ipython3",
   "version": "3.8.5"
  }
 },
 "nbformat": 4,
 "nbformat_minor": 4
}
