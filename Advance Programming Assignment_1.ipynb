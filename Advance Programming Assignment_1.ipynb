{
 "cells": [
  {
   "cell_type": "markdown",
   "metadata": {},
   "source": [
    "# Advance Programming Assignment 1"
   ]
  },
  {
   "cell_type": "code",
   "execution_count": 9,
   "metadata": {},
   "outputs": [
    {
     "data": {
      "text/plain": [
       "0"
      ]
     },
     "execution_count": 9,
     "metadata": {},
     "output_type": "execute_result"
    }
   ],
   "source": [
    "#1. Write a function that takes a list of lists and returns the value of all of the symbols in it, \n",
    "# where each symbol adds or takes something from the total score.\n",
    "\n",
    "def check_score(lst_val):\n",
    "    \"\"\"\n",
    "        Provide list with sub list containing symbols in it.\n",
    "    \"\"\"\n",
    "    if (type(lst_val) != list):\n",
    "        return \"Expecting list as an argument\"\n",
    "    total_score = 0\n",
    "    symbol_dict = {\"#\": 5, \n",
    "               \"O\": 3, \n",
    "               \"X\": 1,\n",
    "               \"!\": -1, \n",
    "               \"!!\": -3, \n",
    "               \"!!!\": -5 }  \n",
    "    total_score = sum([symbol_dict[elem] for sub_lst_val in lst_val for elem in sub_lst_val])\n",
    "    if total_score < 0:\n",
    "        return 0\n",
    "    return total_score\n",
    "    \n",
    "\n",
    "check_score([\n",
    "  [\"!!!\", \"O\", \"!\"],\n",
    "  [\"X\", \"#\", \"!!!\"],\n",
    "  [\"!!\", \"X\", \"O\"]\n",
    "])\n",
    "\n"
   ]
  },
  {
   "cell_type": "code",
   "execution_count": 14,
   "metadata": {},
   "outputs": [
    {
     "data": {
      "text/plain": [
       "120"
      ]
     },
     "execution_count": 14,
     "metadata": {},
     "output_type": "execute_result"
    }
   ],
   "source": [
    "#2. Create a function that takes a variable number of arguments, each argument representing the number of items in a group, \n",
    "# and returns the number of permutations (combinations) of items that you could get by taking one item from each group.\n",
    "\n",
    "def combinations(*args):\n",
    "    \"\"\"\n",
    "        args: integer values of variable number of arguments\n",
    "    \"\"\"\n",
    "    combin_val = 1\n",
    "    for i in args:\n",
    "        if (i == 0):\n",
    "            continue\n",
    "        combin_val *= i\n",
    "    return combin_val\n",
    "\n",
    "combinations(2, 3, 4, 5)"
   ]
  },
  {
   "cell_type": "code",
   "execution_count": 21,
   "metadata": {},
   "outputs": [
    {
     "data": {
      "text/plain": [
       "'.... . .-.. .--.   -- .   -.-.--'"
      ]
     },
     "execution_count": 21,
     "metadata": {},
     "output_type": "execute_result"
    }
   ],
   "source": [
    "#3. Create a function that takes a string as an argument and returns the Morse code equivalent.\n",
    "\n",
    "def encode_morse(str_val):\n",
    "    \"\"\"\n",
    "        str_val: provide any length of string to be converted to morse code.\n",
    "    \"\"\"\n",
    "    char_to_dots = {\n",
    "      'A': '.-', 'B': '-...', 'C': '-.-.', 'D': '-..', 'E': '.', 'F': '..-.',\n",
    "      'G': '--.', 'H': '....', 'I': '..', 'J': '.---', 'K': '-.-', 'L': '.-..',\n",
    "      'M': '--', 'N': '-.', 'O': '---', 'P': '.--.', 'Q': '--.-', 'R': '.-.',\n",
    "      'S': '...', 'T': '-', 'U': '..-', 'V': '...-', 'W': '.--', 'X': '-..-',\n",
    "      'Y': '-.--', 'Z': '--..', ' ': ' ', '0': '-----',\n",
    "      '1': '.----', '2': '..---', '3': '...--', '4': '....-', '5': '.....',\n",
    "      '6': '-....', '7': '--...', '8': '---..', '9': '----.',\n",
    "      '&': '.-...', \"'\": '.----.', '@': '.--.-.', ')': '-.--.-', '(': '-.--.',\n",
    "      ':': '---...', ',': '--..--', '=': '-...-', '!': '-.-.--', '.': '.-.-.-',\n",
    "      '-': '-....-', '+': '.-.-.', '\"': '.-..-.', '?': '..--..', '/': '-..-.'\n",
    "    }\n",
    "    \n",
    "    encoded_lst_val = [char_to_dots[i] for i in str_val]\n",
    "    return (' ').join(encoded_lst_val)\n",
    "encode_morse(\"HELP ME !\")"
   ]
  },
  {
   "cell_type": "code",
   "execution_count": 45,
   "metadata": {},
   "outputs": [
    {
     "data": {
      "text/plain": [
       "True"
      ]
     },
     "execution_count": 45,
     "metadata": {},
     "output_type": "execute_result"
    }
   ],
   "source": [
    "#4. Write a function that takes a number and returns True if it's a prime; False otherwise. The number can be 2^64-1 \n",
    "# (2 to the power of 63, not XOR). With the standard technique it would be O(2^64-1), which is much too large for \n",
    "# the 10 second time limit.\n",
    "import math\n",
    "def prime(num):\n",
    "    \"\"\"\n",
    "    num : Any number greater than 1 which need to be verified if it is prime or not.\n",
    "    \"\"\"\n",
    "    if num > 1:\n",
    "         for i in range(2, int(math.sqrt(num))+1):\n",
    "            if (num%i == 0):                \n",
    "                return False            \n",
    "         return True\n",
    "prime(7)"
   ]
  },
  {
   "cell_type": "code",
   "execution_count": 60,
   "metadata": {},
   "outputs": [
    {
     "data": {
      "text/plain": [
       "[False, True, True, False]"
      ]
     },
     "execution_count": 60,
     "metadata": {},
     "output_type": "execute_result"
    }
   ],
   "source": [
    "#5. Create a function that converts a word to a bitstring and then to a boolean list based on the following criteria\n",
    "def to_boolean_list(str_val):\n",
    "    alpha_val = \"abcdefghijklmnopqrstuvwxyz\"     \n",
    "    str_binary_lst = [0 if((alpha_val.index(i)+1)%2 == 0) else 1 for i in str_val]\n",
    "    bool_lst = [bool(i) for i in str_binary_lst]\n",
    "    return bool_lst\n",
    "\n",
    "to_boolean_list(\"tesh\")\n"
   ]
  }
 ],
 "metadata": {
  "kernelspec": {
   "display_name": "Python 3",
   "language": "python",
   "name": "python3"
  },
  "language_info": {
   "codemirror_mode": {
    "name": "ipython",
    "version": 3
   },
   "file_extension": ".py",
   "mimetype": "text/x-python",
   "name": "python",
   "nbconvert_exporter": "python",
   "pygments_lexer": "ipython3",
   "version": "3.8.5"
  }
 },
 "nbformat": 4,
 "nbformat_minor": 4
}
