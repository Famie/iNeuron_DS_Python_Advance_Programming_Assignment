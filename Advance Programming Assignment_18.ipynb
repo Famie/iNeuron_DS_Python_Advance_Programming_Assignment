{
 "cells": [
  {
   "cell_type": "markdown",
   "metadata": {},
   "source": [
    "# Advance Programming Assignment 18"
   ]
  },
  {
   "cell_type": "code",
   "execution_count": 34,
   "metadata": {},
   "outputs": [
    {
     "data": {
      "text/plain": [
       "[200, 10500]"
      ]
     },
     "execution_count": 34,
     "metadata": {},
     "output_type": "execute_result"
    }
   ],
   "source": [
    "#1. A robot has been given a list of movement instructions. Each instruction is either left, right, up or down, followed \n",
    "# by a distance to move. The robot starts at [0, 0]. You want to calculate where the robot will end up and return its \n",
    "# final position as a list.\n",
    "def track_robot(lst_val):\n",
    "    x = 0\n",
    "    y = 0\n",
    "    for i in lst_val:\n",
    "        tmp_lst = i.split(' ')\n",
    "        direction = tmp_lst[0]\n",
    "        distance = int(tmp_lst[1])\n",
    "        if (direction == \"right\"):\n",
    "            x += distance\n",
    "        elif (direction == \"left\"):\n",
    "            x -= distance\n",
    "        elif (direction == \"up\"):\n",
    "            y += distance\n",
    "        elif (direction == \"down\"):\n",
    "            y -= distance\n",
    "    return [x,y]\n",
    "track_robot([\"right 100\", \"right 100\", \"up 500\", \"up 10000\"]) "
   ]
  },
  {
   "cell_type": "code",
   "execution_count": 7,
   "metadata": {},
   "outputs": [
    {
     "data": {
      "text/plain": [
       "'forever'"
      ]
     },
     "execution_count": 7,
     "metadata": {},
     "output_type": "execute_result"
    }
   ],
   "source": [
    "#2.  Write a function that will return the longest word in a sentence. In cases where more than one word is found,\n",
    "# return the first one.\n",
    "import re\n",
    "def find_longest(str_val):\n",
    "    pattern = re.compile(r'[a-zA-Z]+')\n",
    "    lst_val = pattern.findall(str_val.lower())\n",
    "    return max(lst_val, key=len)\n",
    "find_longest(\"A thing of beauty is a joy forever.\") \n"
   ]
  },
  {
   "cell_type": "code",
   "execution_count": 12,
   "metadata": {},
   "outputs": [
    {
     "data": {
      "text/plain": [
       "'disqualified'"
      ]
     },
     "execution_count": 12,
     "metadata": {},
     "output_type": "execute_result"
    }
   ],
   "source": [
    "#3. Create a function to check if a candidate is qualified in an imaginary coding interview of an imaginary tech startup.\n",
    "def interview(lst_val, total_completion_time):\n",
    "    if (len(lst_val) < 8):\n",
    "        return \"disqualified\"\n",
    "    elif(total_completion_time > 120):\n",
    "        return \"disqualified\"\n",
    "    elif (lst_val[0] > 5 or lst_val[1] > 5):\n",
    "        return \"disqualified\"\n",
    "    elif (lst_val[2] > 10 or lst_val[3] > 10):\n",
    "        return \"disqualified\"\n",
    "    elif (lst_val[4] > 15 or lst_val[5] > 15):\n",
    "        return \"disqualified\"\n",
    "    elif (lst_val[6] > 20 or lst_val[7] > 20):\n",
    "        return \"disqualified\"\n",
    "    else:\n",
    "        return \"qualified\"\n",
    "interview([5, 5, 10, 10, 15, 15, 20, 20], 130) "
   ]
  },
  {
   "cell_type": "code",
   "execution_count": 24,
   "metadata": {},
   "outputs": [
    {
     "data": {
      "text/plain": [
       "[[2, 3, 4, 5, 6, 7]]"
      ]
     },
     "execution_count": 24,
     "metadata": {},
     "output_type": "execute_result"
    }
   ],
   "source": [
    "#4. Write a function that divides a list into chunks of size n, where n is the length of each chunk.\n",
    "def chunkify(lst_val, n):\n",
    "    final_lst = []\n",
    "    for i in range(0, len(lst_val), n): \n",
    "        final_lst.append(list(lst_val[i:i + n]))\n",
    "    return final_lst\n",
    "\n",
    "chunkify([2, 3, 4, 5, 6, 7], 7) "
   ]
  },
  {
   "cell_type": "code",
   "execution_count": 32,
   "metadata": {},
   "outputs": [
    {
     "data": {
      "text/plain": [
       "[5.99, 0.2, 8.5, 1.99]"
      ]
     },
     "execution_count": 32,
     "metadata": {},
     "output_type": "execute_result"
    }
   ],
   "source": [
    "#5. You are given a list of strings consisting of grocery items, with prices in parentheses. \n",
    "# Return a list of prices in float format.\n",
    "import re\n",
    "def get_prices(lst_val):\n",
    "    price_lst = []\n",
    "    pattern = re.compile(r'[0-9]+\\.[0-9]+')\n",
    "    for i in lst_val:\n",
    "        price_lst.append(float(pattern.findall(i)[0]))\n",
    "    return price_lst\n",
    "get_prices([\n",
    "  \"ice cream ($5.99)\",\n",
    "  \"banana ($0.20)\",\n",
    "  \"sandwich ($8.50)\",\n",
    "  \"soup ($1.99)\"\n",
    "])\n",
    "\n"
   ]
  },
  {
   "cell_type": "code",
   "execution_count": null,
   "metadata": {},
   "outputs": [],
   "source": []
  }
 ],
 "metadata": {
  "kernelspec": {
   "display_name": "Python 3",
   "language": "python",
   "name": "python3"
  },
  "language_info": {
   "codemirror_mode": {
    "name": "ipython",
    "version": 3
   },
   "file_extension": ".py",
   "mimetype": "text/x-python",
   "name": "python",
   "nbconvert_exporter": "python",
   "pygments_lexer": "ipython3",
   "version": "3.8.5"
  }
 },
 "nbformat": 4,
 "nbformat_minor": 4
}
