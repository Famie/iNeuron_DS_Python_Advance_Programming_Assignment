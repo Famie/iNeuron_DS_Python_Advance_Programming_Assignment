{
 "cells": [
  {
   "cell_type": "markdown",
   "metadata": {},
   "source": [
    "# Advance Programming Assignment 16"
   ]
  },
  {
   "cell_type": "code",
   "execution_count": 21,
   "metadata": {},
   "outputs": [
    {
     "data": {
      "text/plain": [
       "False"
      ]
     },
     "execution_count": 21,
     "metadata": {},
     "output_type": "execute_result"
    }
   ],
   "source": [
    "#1. Rondo Form is a type of musical structure, in which there is a recurring theme/refrain, notated as A. Here are \n",
    "#the rules for valid rondo forms:\n",
    "def valid_rondo(str_val):\n",
    "    str_lst_val = 'BCDEFGHIJKLMNOPQRSTUVWXYZ'\n",
    "    alpha_dic_val = {}\n",
    "    if len(str_val) < 3 :\n",
    "        return False\n",
    "    if str_val[0] != \"A\" or str_val[-1] != \"A\":\n",
    "        return False\n",
    "    for i in range(0, len(str_val)-1,2):\n",
    "        alpha_dic_val[str_val[i+1]]=str_val[i]\n",
    "    for key, value in alpha_dic_val.items():\n",
    "        if (value != \"A\"):\n",
    "            return False\n",
    "    tmp_lst_val = list(alpha_dic_val)\n",
    "    for i in range(0, len(tmp_lst_val)):\n",
    "        if (tmp_lst_val[i] != str_lst_val[i]):\n",
    "            return False\n",
    "    return True\n",
    "valid_rondo(\"A\")   \n",
    "        \n",
    "     "
   ]
  },
  {
   "cell_type": "code",
   "execution_count": 30,
   "metadata": {},
   "outputs": [
    {
     "data": {
      "text/plain": [
       "''"
      ]
     },
     "execution_count": 30,
     "metadata": {},
     "output_type": "execute_result"
    }
   ],
   "source": [
    "#2. Create a function that returns the whole of the first sentence which contains a specific word. Include the full \n",
    "# stop at the end of the sentence.\n",
    "def sentence_searcher(sentence_str_val, search_str_val):\n",
    "    sentence_lst_val = sentence_str_val.split('.')\n",
    "    for i in sentence_lst_val:\n",
    "        if search_str_val.lower() in i.lower():\n",
    "            return (i + '.').strip(' ')\n",
    "    return \"\"\n",
    "txt = \"I have a cat. I have a mat. Things are going swell.\"\n",
    "\n",
    "sentence_searcher(txt, \"flat\")    \n"
   ]
  },
  {
   "cell_type": "code",
   "execution_count": 14,
   "metadata": {},
   "outputs": [
    {
     "data": {
      "text/plain": [
       "'10 200 4000 50000'"
      ]
     },
     "execution_count": 14,
     "metadata": {},
     "output_type": "execute_result"
    }
   ],
   "source": [
    "#3. Given a number, find the \"round \"of each digit of the number. An integer is called \"round\" if all its digits \n",
    "# except the leftmost (most significant) are equal to zero.\n",
    "def sum_round(num):\n",
    "    num_lst_val = list(str(num))\n",
    "    round_num_lst_val = []\n",
    "    for i in range(0, len(num_lst_val)):\n",
    "        if (num_lst_val[i] != '0'):\n",
    "            round_num_lst_val.append(num_lst_val[i] + ((len(num_lst_val)-i-1) * '0'))\n",
    "      \n",
    "    return (' ').join(round_num_lst_val[::-1])\n",
    "sum_round(54210) \n",
    "    "
   ]
  },
  {
   "cell_type": "code",
   "execution_count": 4,
   "metadata": {},
   "outputs": [
    {
     "data": {
      "text/plain": [
       "[[1, 2, 3, 4, 5],\n",
       " [2, 4, 6, 8, 10],\n",
       " [3, 6, 9, 12, 15],\n",
       " [4, 8, 12, 16, 20],\n",
       " [5, 10, 15, 20, 25]]"
      ]
     },
     "execution_count": 4,
     "metadata": {},
     "output_type": "execute_result"
    }
   ],
   "source": [
    "#4. Your task, is to create N x N multiplication table, of size n provided in parameter.\n",
    "def multiplication_table(n):\n",
    "    lst_val = []\n",
    "    for i in range(1, n+1):\n",
    "        tmp_lst_val = []\n",
    "        for j in range(1, n+1):\n",
    "            tmp_lst_val.append(i * j)\n",
    "        lst_val.append(tmp_lst_val)\n",
    "    return lst_val\n",
    "\n",
    "multiplication_table(5)\n",
    "    "
   ]
  },
  {
   "cell_type": "code",
   "execution_count": 35,
   "metadata": {},
   "outputs": [
    {
     "data": {
      "text/plain": [
       "False"
      ]
     },
     "execution_count": 35,
     "metadata": {},
     "output_type": "execute_result"
    }
   ],
   "source": [
    "#5. Create a function that returns True if two lines rhyme and False otherwise. For the purposes of this exercise, two lines \n",
    "# rhyme if the last word from each sentence contains the same vowels.\n",
    "def get_vowels(word):\n",
    "    vowels = 'aeiou'\n",
    "    vowels_lst_val=[]\n",
    "    for i in word:\n",
    "        if i.lower() in vowels:\n",
    "            vowels_lst_val.append(i.lower())\n",
    "    vowels_lst_val.sort()\n",
    "    return vowels_lst_val\n",
    "\n",
    "def does_rhyme(sentence1, sentence2):\n",
    "    lst_val1 = sentence1.split(' ')\n",
    "    lst_val2 = sentence2.split(' ')\n",
    "    vowels_lst_val1 = get_vowels(lst_val1[-1])\n",
    "    vowels_lst_val2 = get_vowels(lst_val2[-1])\n",
    "    if len(vowels_lst_val1) !=  len(vowels_lst_val2):\n",
    "        return False\n",
    "    for i in range(0,len(vowels_lst_val1)):\n",
    "        if (vowels_lst_val1[i]!= vowels_lst_val2[i]):\n",
    "            return False\n",
    "    return True\n",
    "does_rhyme(\"and frequently do?\", \"you gotta move.\")     \n",
    "    \n",
    "    "
   ]
  },
  {
   "cell_type": "code",
   "execution_count": null,
   "metadata": {},
   "outputs": [],
   "source": []
  }
 ],
 "metadata": {
  "kernelspec": {
   "display_name": "Python 3",
   "language": "python",
   "name": "python3"
  },
  "language_info": {
   "codemirror_mode": {
    "name": "ipython",
    "version": 3
   },
   "file_extension": ".py",
   "mimetype": "text/x-python",
   "name": "python",
   "nbconvert_exporter": "python",
   "pygments_lexer": "ipython3",
   "version": "3.8.5"
  }
 },
 "nbformat": 4,
 "nbformat_minor": 4
}
