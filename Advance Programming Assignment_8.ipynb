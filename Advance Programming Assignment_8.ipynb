{
 "cells": [
  {
   "cell_type": "markdown",
   "metadata": {},
   "source": [
    "# Advance Programming Assignment 8"
   ]
  },
  {
   "cell_type": "code",
   "execution_count": 9,
   "metadata": {},
   "outputs": [
    {
     "data": {
      "text/plain": [
       "False"
      ]
     },
     "execution_count": 9,
     "metadata": {},
     "output_type": "execute_result"
    }
   ],
   "source": [
    "#1. Given a sentence as txt, return True if any two adjacent words have this property: One word ends with a vowel, \n",
    "# while the word immediately after begins with a vowel\n",
    "\n",
    "def vowel_links(txt):\n",
    "    lst_val = txt.split(' ')\n",
    "    \n",
    "    vowels = 'aeiou'\n",
    "    for i in range(0, len(lst_val)-1):\n",
    "        if ((lst_val[i][-1] in vowels) and (lst_val[i+1][0] in vowels)):\n",
    "            return True\n",
    "    return False\n",
    "vowel_links(\"a sudden applause\") \n",
    "    "
   ]
  },
  {
   "cell_type": "code",
   "execution_count": 41,
   "metadata": {},
   "outputs": [
    {
     "data": {
      "text/plain": [
       "False"
      ]
     },
     "execution_count": 41,
     "metadata": {},
     "output_type": "execute_result"
    }
   ],
   "source": [
    "#2. You are given three inputs: a string, one letter, and a second letter.\n",
    "\n",
    "def first_before_second(str_val, o, s):\n",
    "    if (o not in str_val):\n",
    "        return False\n",
    "    if (s not in str_val):\n",
    "        return False\n",
    "    o_lst= []\n",
    "    s_lst = []\n",
    "    max_o = 0\n",
    "    min_s = 0\n",
    "    for i in range(0, len(str_val)):\n",
    "        if(str_val[i:i+1]==o):\n",
    "            o_lst.append(i)\n",
    "            \n",
    "        if(str_val[i:i+1]==s):\n",
    "            s_lst.append(i)\n",
    "    max_o = max(o_lst)\n",
    "    min_s = min(s_lst)\n",
    "    if (max_o < min_s):\n",
    "        return True\n",
    "    else:\n",
    "        return False\n",
    "first_before_second(\"precarious kangaroos\", \"k\", \"a\")\n",
    "        "
   ]
  },
  {
   "cell_type": "code",
   "execution_count": 17,
   "metadata": {},
   "outputs": [
    {
     "data": {
      "text/plain": [
       "'EAI'"
      ]
     },
     "execution_count": 17,
     "metadata": {},
     "output_type": "execute_result"
    }
   ],
   "source": [
    "#3. Create a function that returns the characters from a list or string r on odd or even positions,\n",
    "# depending on the specifier s.\n",
    "\n",
    "def char_at_pos(val, type_val):\n",
    "    type_lst_val = []\n",
    "    lst_val = []\n",
    "    return_type = \"\"\n",
    "    if type(val) == str:\n",
    "        lst_val += list(val)\n",
    "        return_type=\"str\"\n",
    "    else:\n",
    "        lst_val += val\n",
    "        return_type = \"list\"\n",
    "        \n",
    "    if type_val == \"even\":\n",
    "        for i in range(1,len(lst_val), 2):\n",
    "            type_lst_val.append(lst_val[i])\n",
    "    else:\n",
    "        for i in range(0,len(lst_val), 2):\n",
    "            type_lst_val.append(lst_val[i])\n",
    "    if (return_type==\"str\"):\n",
    "        return ('').join(type_lst_val)\n",
    "    else:\n",
    "        return type_lst_val\n",
    "char_at_pos(\"EDABIT\", \"odd\") "
   ]
  },
  {
   "cell_type": "code",
   "execution_count": 28,
   "metadata": {},
   "outputs": [
    {
     "data": {
      "text/plain": [
       "64"
      ]
     },
     "execution_count": 28,
     "metadata": {},
     "output_type": "execute_result"
    }
   ],
   "source": [
    "#4. Write a function that returns the greatest common divisor of all list elements. If the greatest common divisor is 1, return 1\n",
    "\n",
    "def GCD(lst_val):\n",
    "    min_val = min(lst_val)\n",
    "    is_gcd = True\n",
    "    while(min_val>= 1):\n",
    "        is_gcd = True\n",
    "        for i in lst_val:            \n",
    "            if (i % min_val != 0):\n",
    "                is_gcd = False\n",
    "        if(is_gcd):\n",
    "            break\n",
    "        min_val -= 1\n",
    "    return min_val\n",
    "GCD([1024, 192, 2048, 512])  "
   ]
  },
  {
   "cell_type": "code",
   "execution_count": 35,
   "metadata": {},
   "outputs": [
    {
     "data": {
      "text/plain": [
       "'Neither!'"
      ]
     },
     "execution_count": 35,
     "metadata": {},
     "output_type": "execute_result"
    }
   ],
   "source": [
    "#5. A number/string is a palindrome if the digits/characters are the same when read both forward and backward.\n",
    "\n",
    "def palindrome_type(n):\n",
    "    str_n = str(n)\n",
    "    bin_n = bin(n).replace(\"0b\", \"\")\n",
    "    if str_n == str_n[::-1] and bin_n == bin_n[::-1]:\n",
    "        return \"Decimal and binary.\"\n",
    "    elif str_n == str_n[::-1]:\n",
    "        return \"Decimal only.\"\n",
    "    elif bin_n == bin_n[::-1]:\n",
    "        return \"Binary only.\"\n",
    "    else:\n",
    "        return \"Neither!\"\n",
    "\n",
    "palindrome_type(934)"
   ]
  }
 ],
 "metadata": {
  "kernelspec": {
   "display_name": "Python 3",
   "language": "python",
   "name": "python3"
  },
  "language_info": {
   "codemirror_mode": {
    "name": "ipython",
    "version": 3
   },
   "file_extension": ".py",
   "mimetype": "text/x-python",
   "name": "python",
   "nbconvert_exporter": "python",
   "pygments_lexer": "ipython3",
   "version": "3.8.5"
  }
 },
 "nbformat": 4,
 "nbformat_minor": 4
}
