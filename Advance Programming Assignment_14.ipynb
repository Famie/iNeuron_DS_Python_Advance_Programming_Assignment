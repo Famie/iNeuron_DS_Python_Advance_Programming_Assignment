{
 "cells": [
  {
   "cell_type": "markdown",
   "metadata": {},
   "source": [
    "# Advance Programming Assignment 14"
   ]
  },
  {
   "cell_type": "code",
   "execution_count": 33,
   "metadata": {},
   "outputs": [
    {
     "data": {
      "text/plain": [
       "[27.0, 75.0]"
      ]
     },
     "execution_count": 33,
     "metadata": {},
     "output_type": "execute_result"
    }
   ],
   "source": [
    "#1. Given a list of numbers, create a function that removes 25% from every number in the list except the smallest \n",
    "# number, and adds the total amount removed to the smallest number.\n",
    "\n",
    "def show_the_love(lst_val):\n",
    "    min_val = min(lst_val)\n",
    "    index_min_val = lst_val.index(min_val)\n",
    "    tmp =0 \n",
    "    total = 0\n",
    "    for i in range(0,len(lst_val)):\n",
    "        if i != index_min_val:\n",
    "            total += (lst_val[i] * 0.25)\n",
    "            lst_val[i] = (lst_val[i]- (lst_val[i] * 0.25))\n",
    "    lst_val[index_min_val] = lst_val[index_min_val] + total\n",
    "    return lst_val\n",
    "show_the_love([2, 100])"
   ]
  },
  {
   "cell_type": "code",
   "execution_count": 30,
   "metadata": {},
   "outputs": [
    {
     "name": "stdout",
     "output_type": "stream",
     "text": [
      "['a', 'c', 'h', 'm', 't'] ['a', 'h', 'm']\n"
     ]
    },
    {
     "data": {
      "text/plain": [
       "['ahm', 'ct', '']"
      ]
     },
     "execution_count": 30,
     "metadata": {},
     "output_type": "execute_result"
    }
   ],
   "source": [
    "#2. Create a function that takes in two words as input and returns a list of three elements, in the following order.\n",
    "def letters(str_val1, str_val2):\n",
    "   lst_str_val1 = list(dict.fromkeys(list(str_val1)))\n",
    "   lst_str_val2 = list(dict.fromkeys(list(str_val2)))\n",
    "   lst_str_val1.sort()\n",
    "   lst_str_val2.sort()\n",
    "   letters_lst_val = []\n",
    "   match_letters = ''\n",
    "   print(lst_str_val1, lst_str_val2)\n",
    "   tmp_lst_str_val = lst_str_val1.copy()\n",
    "   for i in tmp_lst_str_val:\n",
    "      if (i in lst_str_val2):\n",
    "         match_letters += i\n",
    "         lst_str_val1.remove(i)\n",
    "         lst_str_val2.remove(i)\n",
    "   letters_lst_val.append(match_letters)\n",
    "   letters_lst_val.append(('').join(lst_str_val1))\n",
    "   letters_lst_val.append(('').join(lst_str_val2))\n",
    "   return letters_lst_val\n",
    "letters(\"match\", \"ham\")\n",
    "   "
   ]
  },
  {
   "cell_type": "code",
   "execution_count": 18,
   "metadata": {},
   "outputs": [
    {
     "data": {
      "text/plain": [
       "[]"
      ]
     },
     "execution_count": 18,
     "metadata": {},
     "output_type": "execute_result"
    }
   ],
   "source": [
    "#3. Write a function that pairs the first number in an array with the last, the second number with the second to last, etc.\n",
    "def pairs(lst_val):\n",
    "    new_lst_val = []\n",
    "    lst_len = 0\n",
    "    if (len(lst_val)% 2 ==0):\n",
    "        lst_len = int(len(lst_val)/2)\n",
    "    else:\n",
    "        lst_len = int(len(lst_val)/2) + 1\n",
    "   \n",
    "    for i in range(0, lst_len):\n",
    "        val1 = lst_val[i]\n",
    "        val2 = lst_val[(len(lst_val)-1)-i]\n",
    "        new_lst_val.append([val1,val2])\n",
    "    return new_lst_val\n",
    "pairs([]) "
   ]
  },
  {
   "cell_type": "code",
   "execution_count": 10,
   "metadata": {},
   "outputs": [
    {
     "data": {
      "text/plain": [
       "'1874682736267235927391936562808774986'"
      ]
     },
     "execution_count": 10,
     "metadata": {},
     "output_type": "execute_result"
    }
   ],
   "source": [
    "#4.  Write a function that adds two numbers. The catch, however, is that the numbers will be strings.\n",
    "import re\n",
    "def add_str_nums(x, y):\n",
    "    if (x == \"\" or y == \"\"):\n",
    "        return x+y\n",
    "    pattern = re.compile(r\"[a-zA-Z]\")\n",
    "    if (len(pattern.findall(x)) > 0):\n",
    "        return -1\n",
    "    if (len(pattern.findall(y)) > 0):\n",
    "        return -1    \n",
    "    str_sum = str(int(x) + int(y))\n",
    "    return str_sum\n",
    "add_str_nums(\"1874682736267235927359283579235789257\", \"32652983572985729\")   "
   ]
  },
  {
   "cell_type": "code",
   "execution_count": 44,
   "metadata": {},
   "outputs": [
    {
     "data": {
      "text/plain": [
       "'abcde'"
      ]
     },
     "execution_count": 44,
     "metadata": {},
     "output_type": "execute_result"
    }
   ],
   "source": [
    "#5. Somehow my strings have all become mixed up; every pair of characters has been swapped. Help me \n",
    "#undo this so I can understand my strings again.\n",
    "def unmix(str_val):\n",
    "    len_str_val = 0\n",
    "    lst_str_val = list(str_val)\n",
    "    if len(lst_str_val) %2 ==0:\n",
    "        len_str_val = len(lst_str_val)\n",
    "    else:\n",
    "        len_str_val = len(lst_str_val) -1    \n",
    "    for i in range(0, len_str_val,2):\n",
    "        lst_str_val[i], lst_str_val[i+1] = lst_str_val[i+1], lst_str_val[i]\n",
    "    \n",
    "    return ('').join(lst_str_val)\n",
    "    \n",
    "unmix(\"badce\")\n",
    "    \n",
    "    "
   ]
  },
  {
   "cell_type": "code",
   "execution_count": null,
   "metadata": {},
   "outputs": [],
   "source": []
  }
 ],
 "metadata": {
  "kernelspec": {
   "display_name": "Python 3",
   "language": "python",
   "name": "python3"
  },
  "language_info": {
   "codemirror_mode": {
    "name": "ipython",
    "version": 3
   },
   "file_extension": ".py",
   "mimetype": "text/x-python",
   "name": "python",
   "nbconvert_exporter": "python",
   "pygments_lexer": "ipython3",
   "version": "3.8.5"
  }
 },
 "nbformat": 4,
 "nbformat_minor": 4
}
