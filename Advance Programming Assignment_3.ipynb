{
 "cells": [
  {
   "cell_type": "markdown",
   "metadata": {},
   "source": [
    "# Advance Programming Assignment 3"
   ]
  },
  {
   "cell_type": "code",
   "execution_count": 86,
   "metadata": {},
   "outputs": [
    {
     "name": "stdout",
     "output_type": "stream",
     "text": [
      "Enter expression : 12 // 0\n",
      "-1\n"
     ]
    }
   ],
   "source": [
    "#1. Create a function to perform basic arithmetic operations that includes addition, subtraction, multiplication and \n",
    "# division on a string number\n",
    "import re\n",
    "def arithmetic_operation(str_val):\n",
    "    '''\n",
    "        str_val: must be an expression with digits, a space, an operator (*,+,-,//), a space and digits e.g. 12 + 23\n",
    "    '''\n",
    "    digit_pattern = re.compile(r\"\\d+\")\n",
    "    operator_pattern = re.compile(r'[\\+\\*-//]')\n",
    "\n",
    "    digit1, digit2 = tuple(digit_pattern.findall(str_val))\n",
    "    oper = operator_pattern.findall(str_val)[0]\n",
    "\n",
    "    if oper == \"+\":\n",
    "        digit3 = int(digit1) + int(digit2)\n",
    "    elif oper == \"-\":\n",
    "        digit3 = int(digit1) - int(digit2)\n",
    "    elif oper == \"*\":\n",
    "        digit3 = int(digit1) * int(digit2)\n",
    "    elif oper == \"/\":\n",
    "        if int(digit2) == 0:\n",
    "            digit3 = -1\n",
    "        else:\n",
    "            digit3 = int(digit1) / int(digit2)\n",
    "    print(digit3)\n",
    "\n",
    "str_val = input(\"Enter expression : \")\n",
    "arithmetic_operation(str_val)\n",
    "\n"
   ]
  },
  {
   "cell_type": "code",
   "execution_count": null,
   "metadata": {},
   "outputs": [],
   "source": []
  },
  {
   "cell_type": "code",
   "execution_count": 97,
   "metadata": {},
   "outputs": [
    {
     "data": {
      "text/plain": [
       "68.28"
      ]
     },
     "execution_count": 97,
     "metadata": {},
     "output_type": "execute_result"
    }
   ],
   "source": [
    "#2. Write a function that takes the coordinates of three points in the form of a 2d array and returns the perimeter of the \n",
    "# triangle. The given points are the vertices of a triangle on a two-dimensional plane.\n",
    "import math\n",
    "def perimeter(tri_coord_lst_val):\n",
    "    x1, x2 = tri_coord_lst_val[0]\n",
    "    y1, y2 = tri_coord_lst_val[1]\n",
    "    z1, z2 = tri_coord_lst_val[2]\n",
    "    xy = math.sqrt( (x1-y1)**2 + (x2-y2)**2 )\n",
    "    yz = math.sqrt( (y1-z1)**2 + (y2-z2)**2 )\n",
    "    xz = math.sqrt( (x1-z1)**2 + (x2-z2)**2 )\n",
    "    return round((xy + yz + xz),2)\n",
    "perimeter( [ [-10, -10], [10, 10 ], [-10, 10] ]  )"
   ]
  },
  {
   "cell_type": "code",
   "execution_count": 104,
   "metadata": {},
   "outputs": [
    {
     "data": {
      "text/plain": [
       "3"
      ]
     },
     "execution_count": 104,
     "metadata": {},
     "output_type": "execute_result"
    }
   ],
   "source": [
    "#3. A city skyline can be represented as a 2-D list with 1s representing buildings. In the example below, the height of the \n",
    "# tallest building is 4 \n",
    "\n",
    "def tallest_skyscraper(skyline):\n",
    "    height = len(skyline)\n",
    "    for i in skyline:\n",
    "        if (1 in i):\n",
    "            return height\n",
    "        else:\n",
    "            height -=1\n",
    "    return 0\n",
    "\n",
    "tallest_skyscraper([\n",
    "  [0, 0, 0, 0],\n",
    "  [0, 1, 0, 0],\n",
    "  [0, 1, 1, 0],\n",
    "  [1, 1, 1, 1]\n",
    "])\n"
   ]
  },
  {
   "cell_type": "code",
   "execution_count": 120,
   "metadata": {},
   "outputs": [
    {
     "data": {
      "text/plain": [
       "1625"
      ]
     },
     "execution_count": 120,
     "metadata": {},
     "output_type": "execute_result"
    }
   ],
   "source": [
    "#4. A financial institution provides professional services to banks and claims charges from the customers based on the \n",
    "# number of man-days provided. Internally, it has set a scheme to motivate and reward staff to meet and exceed targeted \n",
    "#billable utilization and revenues by paying a bonus for each day claimed from customers in excess of a threshold target.\n",
    "\n",
    "def bonus(num):\n",
    "    total = 0\n",
    "    if (0 <= num <= 32):\n",
    "        total += num * 0\n",
    "    elif (33 <= num <= 40):\n",
    "        total += (32 * 0) + (((num - 33) + 1) * 325)\n",
    "    elif(41 <= num <= 48):\n",
    "        total += (32 * 0) + (8 * 325) + (((num - 41) + 1) * 550)\n",
    "    elif (num >= 49):\n",
    "        total += (32 * 0) + (8 * 325) + (8 * 550) + (((num - 49) + 1) * 600)\n",
    "    return total\n",
    "\n",
    "bonus(37)\n",
    "    "
   ]
  },
  {
   "cell_type": "code",
   "execution_count": 111,
   "metadata": {},
   "outputs": [
    {
     "data": {
      "text/plain": [
       "True"
      ]
     },
     "execution_count": 111,
     "metadata": {},
     "output_type": "execute_result"
    }
   ],
   "source": [
    "#5. A number is said to be Disarium if the sum of its digits raised to their respective positions is the number itself.\n",
    "\n",
    "def is_disarium(num):\n",
    "    str_val = str(num)\n",
    "    index = 1\n",
    "    total = 0\n",
    "    for i in str_val:\n",
    "        total += int(i)**index\n",
    "        index +=1\n",
    "    if(total == num):\n",
    "        return True\n",
    "    else:\n",
    "        return False\n",
    "is_disarium(8) \n",
    "    "
   ]
  },
  {
   "cell_type": "code",
   "execution_count": null,
   "metadata": {},
   "outputs": [],
   "source": []
  }
 ],
 "metadata": {
  "kernelspec": {
   "display_name": "Python 3",
   "language": "python",
   "name": "python3"
  },
  "language_info": {
   "codemirror_mode": {
    "name": "ipython",
    "version": 3
   },
   "file_extension": ".py",
   "mimetype": "text/x-python",
   "name": "python",
   "nbconvert_exporter": "python",
   "pygments_lexer": "ipython3",
   "version": "3.8.5"
  }
 },
 "nbformat": 4,
 "nbformat_minor": 4
}
