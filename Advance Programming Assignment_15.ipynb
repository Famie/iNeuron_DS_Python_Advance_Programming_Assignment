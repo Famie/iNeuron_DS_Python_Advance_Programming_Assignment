{
 "cells": [
  {
   "cell_type": "markdown",
   "metadata": {},
   "source": [
    "# Advance Programming Assignment 15"
   ]
  },
  {
   "cell_type": "code",
   "execution_count": 46,
   "metadata": {},
   "outputs": [
    {
     "data": {
      "text/plain": [
       "False"
      ]
     },
     "execution_count": 46,
     "metadata": {},
     "output_type": "execute_result"
    }
   ],
   "source": [
    "#1. Write a function that returns True if a given name can generate an array of words.\n",
    "def anagram(name_val, word_lst_val):\n",
    "    name_val = name_val.lower()\n",
    "    name_val = name_val.replace(' ', '')\n",
    "    name_lst_val = list(name_val)\n",
    "    for word in word_lst_val:\n",
    "        for char in word:\n",
    "            if char.lower() not in name_lst_val:\n",
    "                return False\n",
    "            else:\n",
    "                name_lst_val.remove(char.lower())\n",
    "    if(len(name_lst_val)> 0):\n",
    "        return False\n",
    "    return True\n",
    "anagram(\"Jeff Goldblum\", [\"jog\", \"meld\", \"bluffs\"])\n"
   ]
  },
  {
   "cell_type": "code",
   "execution_count": 52,
   "metadata": {},
   "outputs": [
    {
     "data": {
      "text/plain": [
       "[{'name': 'c', 'score': 115, 'reputation': 30},\n",
       " {'name': 'b', 'score': 90, 'reputation': 40},\n",
       " {'name': 'a', 'score': 100, 'reputation': 20}]"
      ]
     },
     "execution_count": 52,
     "metadata": {},
     "output_type": "execute_result"
    }
   ],
   "source": [
    "#2. Given an array of users, each defined by an object with the following properties: name, score, \n",
    "# reputation create a function that sorts the array to form the correct leaderboard.\n",
    "def leaderboards(lst_val):\n",
    "    for dict_item in lst_val:\n",
    "        dict_item[\"trueScore\"] = (dict_item[\"reputation\"] * 2) + dict_item[\"score\"]\n",
    "    sorted_lst_val = sorted(lst_val, key=lambda item: item['trueScore'], reverse =True)    \n",
    "    for dict_item in sorted_lst_val:\n",
    "        del dict_item['trueScore']\n",
    "    return sorted_lst_val\n",
    "leaderboards([\n",
    "  { \"name\": \"a\", \"score\": 100, \"reputation\": 20 },\n",
    "  { \"name\": \"b\", \"score\": 90, \"reputation\": 40 },\n",
    "  { \"name\": \"c\", \"score\": 115, \"reputation\": 30 },\n",
    "])\n",
    "\n",
    "    "
   ]
  },
  {
   "cell_type": "code",
   "execution_count": 39,
   "metadata": {},
   "outputs": [
    {
     "data": {
      "text/plain": [
       "'-e\"- a -e-y -a----y --y!'"
      ]
     },
     "execution_count": 39,
     "metadata": {},
     "output_type": "execute_result"
    }
   ],
   "source": [
    "#3. Create a function that, given a phrase and a number of letters guessed, returns a string with hyphens - for every \n",
    "# letter of the phrase not guessed, and each letter guessed in place.\n",
    "\n",
    "def hangman(str_val, lst_val):\n",
    "    new_str_val = ''\n",
    "    for s in str_val:\n",
    "        if s.lower() not in lst_val:\n",
    "            if s.isalpha():\n",
    "                new_str_val +=\"-\"\n",
    "            else:\n",
    "                new_str_val += s\n",
    "        else:\n",
    "            new_str_val += s\n",
    "    return new_str_val\n",
    "hangman(\"He\\\"s a very naughty boy!\", [\"e\", \"a\", \"y\"]) "
   ]
  },
  {
   "cell_type": "code",
   "execution_count": 33,
   "metadata": {},
   "outputs": [
    {
     "data": {
      "text/plain": [
       "256"
      ]
     },
     "execution_count": 33,
     "metadata": {},
     "output_type": "execute_result"
    }
   ],
   "source": [
    "#4. The Collatz sequence is as follows:\n",
    "def max_collatz(num):\n",
    "    lst_val = []\n",
    "    lst_val.append(num)\n",
    "    while(num > 1):\n",
    "        if (num %2 == 0):\n",
    "            num = int(num / 2)\n",
    "            lst_val.append(num)\n",
    "        else:\n",
    "            num = (num * 3) + 1 \n",
    "            lst_val.append(num)    \n",
    "    \n",
    "    return max(lst_val)\n",
    "max_collatz(85)"
   ]
  },
  {
   "cell_type": "code",
   "execution_count": 27,
   "metadata": {},
   "outputs": [
    {
     "name": "stdout",
     "output_type": "stream",
     "text": [
      "{101: 3, 77: 2, 23: 2, 5: 1, 7: 1}\n"
     ]
    },
    {
     "data": {
      "text/plain": [
       "[101, 23, 77, 5, 7]"
      ]
     },
     "execution_count": 27,
     "metadata": {},
     "output_type": "execute_result"
    }
   ],
   "source": [
    "#5. Write a function that sorts a list of integers by their digit length in descending order, then settles ties\\\n",
    "# by sorting numbers with the same digit length in ascending order.\n",
    "\n",
    "def digit_sort(lst_val):\n",
    "    sorted_dict_val = {}\n",
    "    dic_val = {}\n",
    "    tmp_lst_val = []\n",
    "    final_lst_val = []\n",
    "    for i in lst_val:\n",
    "        dic_val[i] = len(str(i))\n",
    "    sorted_dict_val = dict(sorted(dic_val.items(), key=lambda item: item[1],reverse=True))        \n",
    "    curr_len = 0\n",
    "    print(sorted_dict_val)\n",
    "    for key, value in sorted_dict_val.items():                \n",
    "        if key == list(sorted_dict_val)[-1]:\n",
    "            if curr_len == 0 or curr_len == value:  \n",
    "                tmp_lst_val.append(key)\n",
    "                curr_len = value\n",
    "                tmp_lst_val.sort()\n",
    "                final_lst_val += tmp_lst_val\n",
    "                tmp_lst_val.clear()\n",
    "            elif curr_len != value: \n",
    "                tmp_lst_val.sort()\n",
    "                final_lst_val += tmp_lst_val\n",
    "                tmp_lst_val.clear()\n",
    "                tmp_lst_val.append(key)\n",
    "                curr_len = value\n",
    "                final_lst_val += tmp_lst_val\n",
    "        elif curr_len == 0 or curr_len == value:            \n",
    "            tmp_lst_val.append(key)\n",
    "            curr_len = value\n",
    "        elif curr_len != value: \n",
    "            \n",
    "            tmp_lst_val.sort()\n",
    "            final_lst_val += tmp_lst_val\n",
    "            tmp_lst_val.clear()\n",
    "            tmp_lst_val.append(key)\n",
    "            curr_len = value\n",
    "        \n",
    "    return final_lst_val\n",
    "digit_sort([77, 23, 5, 7, 101])"
   ]
  },
  {
   "cell_type": "code",
   "execution_count": null,
   "metadata": {},
   "outputs": [],
   "source": []
  }
 ],
 "metadata": {
  "kernelspec": {
   "display_name": "Python 3",
   "language": "python",
   "name": "python3"
  },
  "language_info": {
   "codemirror_mode": {
    "name": "ipython",
    "version": 3
   },
   "file_extension": ".py",
   "mimetype": "text/x-python",
   "name": "python",
   "nbconvert_exporter": "python",
   "pygments_lexer": "ipython3",
   "version": "3.8.5"
  }
 },
 "nbformat": 4,
 "nbformat_minor": 4
}
