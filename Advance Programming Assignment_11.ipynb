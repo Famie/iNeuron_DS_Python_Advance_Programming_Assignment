{
 "cells": [
  {
   "cell_type": "markdown",
   "metadata": {},
   "source": [
    "# Advance Programming Assignment 11"
   ]
  },
  {
   "cell_type": "code",
   "execution_count": 3,
   "metadata": {},
   "outputs": [
    {
     "data": {
      "text/plain": [
       "[1009, 3, 61, 1087, 1091, 1093, 1097]"
      ]
     },
     "execution_count": 3,
     "metadata": {},
     "output_type": "execute_result"
    }
   ],
   "source": [
    "#1. Create a function that takes a list and returns a new list containing only prime numbers.\n",
    "def filter_primes(lst_val):\n",
    "    prime_lst_val = []    \n",
    "    is_prime = True\n",
    "    for i in lst_val:\n",
    "        is_prime = True\n",
    "        for j in range(2, i):\n",
    "            if i % j ==0:\n",
    "                is_prime = False\n",
    "        if(i != 1) and (is_prime):\n",
    "            prime_lst_val.append(i)\n",
    "    return prime_lst_val\n",
    "filter_primes([1009, 10, 10, 10, 3, 33, 9, 4, 1, 61, 63, 69, 1087, 1091, 1093, 1097]) "
   ]
  },
  {
   "cell_type": "code",
   "execution_count": 14,
   "metadata": {},
   "outputs": [
    {
     "data": {
      "text/plain": [
       "[0, 1, 2, 1, 0]"
      ]
     },
     "execution_count": 14,
     "metadata": {},
     "output_type": "execute_result"
    }
   ],
   "source": [
    "#2. Once a water balloon pops, is soaks the area around it. The ground gets drier the further away you travel from the balloon.\n",
    "def pop(lst_val):\n",
    "    mid_index = int(len(lst_val)/2)\n",
    "    mid_val = lst_val[mid_index]\n",
    "    pop_lst_val = []\n",
    "    for i in range(0,mid_val):\n",
    "        pop_lst_val.append(i)\n",
    "    pop_lst_val = pop_lst_val + [mid_val] + pop_lst_val[::-1]\n",
    "    return pop_lst_val\n",
    "pop([0, 0, 2, 0, 0]) "
   ]
  },
  {
   "cell_type": "code",
   "execution_count": 21,
   "metadata": {},
   "outputs": [
    {
     "data": {
      "text/plain": [
       "'LOVES ME'"
      ]
     },
     "execution_count": 21,
     "metadata": {},
     "output_type": "execute_result"
    }
   ],
   "source": [
    "#3. \"Loves me, loves me not\" is a traditional game in which a person plucks off all the petals of a flower one by one, \n",
    "#saying the phrase \"Loves me\" and \"Loves me not\" when determining whether the one that they love, loves them back.\n",
    "\n",
    "def is_last_patel(i, n, patal_val):\n",
    "    if (i == n):\n",
    "        return patal_val.upper()\n",
    "    else:\n",
    "        return patal_val\n",
    "\n",
    "def loves_me(n):\n",
    "    patal1_val = \"Loves me\"\n",
    "    patal2_val = \"Loves me not\"\n",
    "    petal_lst_val = []\n",
    "    for i in range(1,n+1):\n",
    "        if (i % 2 ==0):\n",
    "            petal_lst_val.append(is_last_patel(i, n, patal2_val))\n",
    "        else:\n",
    "            petal_lst_val.append(is_last_patel(i, n, patal1_val))\n",
    "    return (', ').join(petal_lst_val)\n",
    "\n",
    "loves_me(1)"
   ]
  },
  {
   "cell_type": "code",
   "execution_count": 28,
   "metadata": {},
   "outputs": [
    {
     "data": {
      "text/plain": [
       "['304q2', '5y5', '572z']"
      ]
     },
     "execution_count": 28,
     "metadata": {},
     "output_type": "execute_result"
    }
   ],
   "source": [
    "#4. Write a function that sorts each string in a list by the letter in alphabetic ascending order\n",
    "import re\n",
    "def sort_by_letter(lst_val):\n",
    "    dict_val = {}\n",
    "    sorted_lst_val = []\n",
    "    pattern = re.compile(r\"[a-zA-Z]\")\n",
    "    for i in lst_val:\n",
    "        char = pattern.findall(i)\n",
    "        dict_val[char[0]] = i\n",
    "    for j in sorted(dict_val.keys()):\n",
    "        sorted_lst_val.append(dict_val[j])\n",
    "    return sorted_lst_val\n",
    "\n",
    "sort_by_letter([\"572z\", \"5y5\", \"304q2\"]) "
   ]
  },
  {
   "cell_type": "code",
   "execution_count": 29,
   "metadata": {},
   "outputs": [
    {
     "data": {
      "text/plain": [
       "'C'"
      ]
     },
     "execution_count": 29,
     "metadata": {},
     "output_type": "execute_result"
    }
   ],
   "source": [
    "#5.  There are three cups on a table, at positions A, B, and C. At the start, there is a ball hidden under the \n",
    "# cup at position B.\n",
    "\n",
    "def cup_swapping(lst_val):\n",
    "    dict_val = {\"A\" : \"\", \"B\": \"ball\", \"C\" : \"\"}\n",
    "    cup1 = \"\"\n",
    "    cup2 = \"\"\n",
    "    for i in lst_val:\n",
    "        cup1 = i[0:1]\n",
    "        cup2 = i[1:2]\n",
    "        dict_val[cup1] = dict_val[cup2]\n",
    "        dict_val[cup2] = \"\"\n",
    "    for key,value in dict_val.items():\n",
    "        if (value == \"ball\"):\n",
    "            return key\n",
    "cup_swapping([\"AB\", \"CA\", \"AB\"]) \n",
    "    "
   ]
  },
  {
   "cell_type": "code",
   "execution_count": null,
   "metadata": {},
   "outputs": [],
   "source": []
  }
 ],
 "metadata": {
  "kernelspec": {
   "display_name": "Python 3",
   "language": "python",
   "name": "python3"
  },
  "language_info": {
   "codemirror_mode": {
    "name": "ipython",
    "version": 3
   },
   "file_extension": ".py",
   "mimetype": "text/x-python",
   "name": "python",
   "nbconvert_exporter": "python",
   "pygments_lexer": "ipython3",
   "version": "3.8.5"
  }
 },
 "nbformat": 4,
 "nbformat_minor": 4
}
