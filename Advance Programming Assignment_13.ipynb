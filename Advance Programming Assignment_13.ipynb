{
 "cells": [
  {
   "cell_type": "markdown",
   "metadata": {},
   "source": [
    "# Advance Programming Assignment 13"
   ]
  },
  {
   "cell_type": "code",
   "execution_count": 23,
   "metadata": {},
   "outputs": [
    {
     "data": {
      "text/plain": [
       "[]"
      ]
     },
     "execution_count": 23,
     "metadata": {},
     "output_type": "execute_result"
    }
   ],
   "source": [
    "#1. Create a function that takes a list and string. The function should remove the letters in the string from \n",
    "# the list, and return the list.\n",
    "def remove_letters(lst_val, str_val):\n",
    "    for i in str_val:\n",
    "        if (i in lst_val):\n",
    "            lst_val.remove(i)\n",
    "    return lst_val\n",
    "remove_letters([\"d\", \"b\", \"t\", \"e\", \"a\", \"i\"], \"edabit\") "
   ]
  },
  {
   "cell_type": "code",
   "execution_count": 10,
   "metadata": {},
   "outputs": [
    {
     "data": {
      "text/plain": [
       "39"
      ]
     },
     "execution_count": 10,
     "metadata": {},
     "output_type": "execute_result"
    }
   ],
   "source": [
    "#2. A block sequence in three dimensions. We can write a formula for this one:\n",
    "def blocks(num):\n",
    "    if num == 1:\n",
    "        return 5\n",
    "    else:\n",
    "        return num + 5 + blocks(num-1)\n",
    "blocks(5)"
   ]
  },
  {
   "cell_type": "code",
   "execution_count": 14,
   "metadata": {},
   "outputs": [
    {
     "data": {
      "text/plain": [
       "4"
      ]
     },
     "execution_count": 14,
     "metadata": {},
     "output_type": "execute_result"
    }
   ],
   "source": [
    "#3. Create a function that subtracts one positive integer from another, without using any \n",
    "# arithmetic operators such as -, %, /, +, etc\n",
    "\n",
    "def my_sub(x, y):\n",
    "    while (x != 0):\n",
    "     \n",
    "        borrow = (~y) & x\n",
    "        y =  y ^ x\n",
    "        x = borrow << 1     \n",
    "    return y\n",
    "my_sub(5, 9) "
   ]
  },
  {
   "cell_type": "code",
   "execution_count": 22,
   "metadata": {},
   "outputs": [
    {
     "data": {
      "text/plain": [
       "2200"
      ]
     },
     "execution_count": 22,
     "metadata": {},
     "output_type": "execute_result"
    }
   ],
   "source": [
    "#4. Create a function that takes a string containing money in dollars and pounds sterling (seperated by comma)\n",
    "# and returns the sum of dollar bills only, as an integer\n",
    "def add_bill(str_val):\n",
    "    lst_val = str_val.split(',')\n",
    "    total = 0\n",
    "    for i in lst_val:\n",
    "        if 'd' in i:\n",
    "            i = i.replace('d','')\n",
    "            if('k' in i):\n",
    "                i = i.replace('k','000')\n",
    "            total += int(i)\n",
    "    return total\n",
    "add_bill(\"p30,d2k,p60,d200,p360\")  \n"
   ]
  },
  {
   "cell_type": "code",
   "execution_count": 21,
   "metadata": {},
   "outputs": [
    {
     "data": {
      "text/plain": [
       "[]"
      ]
     },
     "execution_count": 21,
     "metadata": {},
     "output_type": "execute_result"
    }
   ],
   "source": [
    "#5. Create a function that flips a horizontal list into a vertical list, and a vertical list into a horizontal list.\n",
    "\n",
    "def flip_list(lst_val):\n",
    "    new_lst_val = []\n",
    "    for i in lst_val:\n",
    "        if (type(i) == int):\n",
    "            new_lst_val.append([i])\n",
    "        elif (type(i) == list):\n",
    "            new_lst_val.append(i[0])\n",
    "    return new_lst_val\n",
    "flip_list([])"
   ]
  },
  {
   "cell_type": "code",
   "execution_count": null,
   "metadata": {},
   "outputs": [],
   "source": []
  }
 ],
 "metadata": {
  "kernelspec": {
   "display_name": "Python 3",
   "language": "python",
   "name": "python3"
  },
  "language_info": {
   "codemirror_mode": {
    "name": "ipython",
    "version": 3
   },
   "file_extension": ".py",
   "mimetype": "text/x-python",
   "name": "python",
   "nbconvert_exporter": "python",
   "pygments_lexer": "ipython3",
   "version": "3.8.5"
  }
 },
 "nbformat": 4,
 "nbformat_minor": 4
}
