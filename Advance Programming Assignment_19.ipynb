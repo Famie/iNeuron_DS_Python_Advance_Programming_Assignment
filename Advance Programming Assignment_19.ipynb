{
 "cells": [
  {
   "cell_type": "markdown",
   "metadata": {},
   "source": [
    "# Advance Programming Assignment 19"
   ]
  },
  {
   "cell_type": "code",
   "execution_count": 10,
   "metadata": {},
   "outputs": [
    {
     "data": {
      "text/plain": [
       "'invalid'"
      ]
     },
     "execution_count": 10,
     "metadata": {},
     "output_type": "execute_result"
    }
   ],
   "source": [
    "#1. Create a checker board generator, which takes as inputs n and 2 elements to generate an n x n checkerboard with \n",
    "#those two elements as alternating squares.\n",
    "def checker_board(n, elem1, elem2):\n",
    "    checkerboard_matrix_lst = []\n",
    "    if (elem1 == elem2):\n",
    "        return \"invalid\"\n",
    "    for i in range(1, n+1):\n",
    "        if(i != 1):\n",
    "            elem1, elem2 = elem2, elem1        \n",
    "        tmp_lst_val = []\n",
    "        for j in range(1, n+1):\n",
    "            if (j % 2 == 0):\n",
    "                tmp_lst_val.append(elem2)\n",
    "            else:\n",
    "                tmp_lst_val.append(elem1)\n",
    "        checkerboard_matrix_lst.append(tmp_lst_val)\n",
    "    return checkerboard_matrix_lst\n",
    "checker_board(4, \"c\", \"c\")"
   ]
  },
  {
   "cell_type": "code",
   "execution_count": 56,
   "metadata": {},
   "outputs": [
    {
     "data": {
      "text/plain": [
       "True"
      ]
     },
     "execution_count": 56,
     "metadata": {},
     "output_type": "execute_result"
    }
   ],
   "source": [
    "#2. A string is an almost-palindrome if, by changing only one character, you can make it a palindrome. Create a function \n",
    "# that returns True if a string is an almost-palindrome and False otherwise.\n",
    "def almost_palindrome(str_val):\n",
    "    mid_index = int(len(str_val)/2)\n",
    "    reverse_str_val = str_val[::-1]\n",
    "    for i in range(0, mid_index):\n",
    "        if(str_val[i] != reverse_str_val[i]):\n",
    "            reverse_str_val = reverse_str_val.replace(reverse_str_val[i], str_val[i],1)            \n",
    "            break    \n",
    "    if (reverse_str_val != reverse_str_val[::-1]):\n",
    "        return False\n",
    "    return True\n",
    "almost_palindrome(\"abcdcbg\")  \n",
    "        "
   ]
  },
  {
   "cell_type": "code",
   "execution_count": 41,
   "metadata": {},
   "outputs": [
    {
     "data": {
      "text/plain": [
       "10"
      ]
     },
     "execution_count": 41,
     "metadata": {},
     "output_type": "execute_result"
    }
   ],
   "source": [
    "#3. Create a function that finds how many prime numbers there are, up to the given integer.\n",
    "def is_prime(num):\n",
    "    prime_flag = True\n",
    "    for i in range(2, num):\n",
    "        if(num %i == 0):\n",
    "            prime_flag = False\n",
    "    return prime_flag\n",
    "def prime_numbers(num):\n",
    "    count = 0\n",
    "    for i in range(2, num+1):\n",
    "        if(is_prime(i)):\n",
    "            count += 1\n",
    "    return count\n",
    "\n",
    "prime_numbers(30)\n",
    "    "
   ]
  },
  {
   "cell_type": "code",
   "execution_count": 36,
   "metadata": {},
   "outputs": [
    {
     "data": {
      "text/plain": [
       "['Monday', 'Friday']"
      ]
     },
     "execution_count": 36,
     "metadata": {},
     "output_type": "execute_result"
    }
   ],
   "source": [
    "#4. Create a function that takes in a list of days as input and the number of days to increment by. Return a list of days \n",
    "#after n number of days has passed.\n",
    "\n",
    "from datetime import timedelta,date\n",
    "import calendar\n",
    "import time\n",
    "def after_n_days(weekdays_lst_val, day_incrementer):\n",
    "    weekday_lst = []\n",
    "    after_n_days_lst = []\n",
    "    curr_date = date.today()\n",
    "    for weekday in weekdays_lst_val:                \n",
    "        weekday_as_int = time.strptime(weekday, \"%A\").tm_wday\n",
    "        \n",
    "        if weekday_as_int == curr_date.weekday():\n",
    "            weekday_lst.append(curr_date)\n",
    "        elif weekday_as_int < curr_date.weekday():\n",
    "            curr_day = curr_date.weekday()\n",
    "            new_date = curr_date            \n",
    "            while(weekday_as_int != curr_day):                \n",
    "                new_date -= timedelta(days=1)\n",
    "                curr_day = new_date.weekday()            \n",
    "            weekday_lst.append(new_date)\n",
    "        elif weekday_as_int > curr_date.weekday():\n",
    "            curr_day = curr_date.weekday()\n",
    "            new_date = curr_date            \n",
    "            while(weekday_as_int != curr_day):                                                \n",
    "                new_date += timedelta(days=1)\n",
    "                curr_day = new_date.weekday()                \n",
    "            weekday_lst.append(new_date)\n",
    "    for value in weekday_lst:\n",
    "        increment_date = value + timedelta(days=day_incrementer)\n",
    "        weekday_name = calendar.day_name[increment_date.weekday()]\n",
    "        after_n_days_lst.append(weekday_name)\n",
    "        \n",
    "    return after_n_days_lst\n",
    "after_n_days([\"Thursday\", \"Monday\"], 4)"
   ]
  },
  {
   "cell_type": "code",
   "execution_count": 14,
   "metadata": {},
   "outputs": [
    {
     "data": {
      "text/plain": [
       "False"
      ]
     },
     "execution_count": 14,
     "metadata": {},
     "output_type": "execute_result"
    }
   ],
   "source": [
    "#5. You are in the process of creating a chat application and want to add an anonymous name feature. This anonymous \n",
    "# name feature will create an alias that consists of two capitalized words beginning with the same letter as the users \n",
    "#first name.\n",
    "\n",
    "def is_correct_aliases(name_lst_val, anonymous_lst_val):\n",
    "    for i in range(0,len(name_lst_val)):\n",
    "        first_name_letter = name_lst_val[i][0]\n",
    "        anonymous_name_lst = anonymous_lst_val[i].split(' ')\n",
    "        for anonymous_name in anonymous_name_lst:\n",
    "            if (anonymous_name[0] != first_name_letter):\n",
    "                return False\n",
    "    return True\n",
    "is_correct_aliases([\"Beth T.\"], [\"Brandishing Mimosa\"])"
   ]
  },
  {
   "cell_type": "code",
   "execution_count": null,
   "metadata": {},
   "outputs": [],
   "source": []
  }
 ],
 "metadata": {
  "kernelspec": {
   "display_name": "Python 3",
   "language": "python",
   "name": "python3"
  },
  "language_info": {
   "codemirror_mode": {
    "name": "ipython",
    "version": 3
   },
   "file_extension": ".py",
   "mimetype": "text/x-python",
   "name": "python",
   "nbconvert_exporter": "python",
   "pygments_lexer": "ipython3",
   "version": "3.8.5"
  }
 },
 "nbformat": 4,
 "nbformat_minor": 4
}
