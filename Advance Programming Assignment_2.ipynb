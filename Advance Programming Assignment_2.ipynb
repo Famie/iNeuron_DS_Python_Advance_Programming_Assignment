{
 "cells": [
  {
   "cell_type": "markdown",
   "metadata": {},
   "source": [
    "# Advance Programming Assignment 2"
   ]
  },
  {
   "cell_type": "code",
   "execution_count": 4,
   "metadata": {},
   "outputs": [
    {
     "data": {
      "text/plain": [
       "141"
      ]
     },
     "execution_count": 4,
     "metadata": {},
     "output_type": "execute_result"
    }
   ],
   "source": [
    "#1. Write a function that takes a positive integer num and calculates how many dots exist in a pentagonal \n",
    "# shape around the center dot on the Nth iteration\n",
    "\n",
    "def pentagonal(n):\n",
    "    totaldot = 1\n",
    "    iteratorbyfive = 0\n",
    "    for i in range(1, n+1):\n",
    "        totaldot += iteratorbyfive\n",
    "        iteratorbyfive += 5\n",
    "    return totaldot\n",
    "pentagonal(8)"
   ]
  },
  {
   "cell_type": "code",
   "execution_count": 9,
   "metadata": {},
   "outputs": [
    {
     "data": {
      "text/plain": [
       "'0c0pl0aca'"
      ]
     },
     "execution_count": 9,
     "metadata": {},
     "output_type": "execute_result"
    }
   ],
   "source": [
    "#2. Make a function that encrypts a given input with these steps\n",
    "\n",
    "def encrypt(str_val):\n",
    "    vowel_dict = {\"a\":0,\"e\":1,\"i\":2,\"o\":2,\"u\":3}    \n",
    "    reverse_str_val = str_val[::-1]\n",
    "    encrypt_str_val = \"\"\n",
    "    for i in reverse_str_val:\n",
    "        if (i in vowel_dict):\n",
    "            encrypt_str_val += str(vowel_dict[i])\n",
    "        else:\n",
    "            encrypt_str_val += i\n",
    "    \n",
    "    encrypt_str_val= encrypt_str_val + \"aca\"\n",
    "    return encrypt_str_val\n",
    "\n",
    "encrypt(\"alpaca\")\n",
    "    "
   ]
  },
  {
   "cell_type": "code",
   "execution_count": 28,
   "metadata": {},
   "outputs": [
    {
     "data": {
      "text/plain": [
       "False"
      ]
     },
     "execution_count": 28,
     "metadata": {},
     "output_type": "execute_result"
    }
   ],
   "source": [
    "#3. Given the month and year as numbers, return whether that month contains a Friday 13th \n",
    "\n",
    "from datetime import datetime\n",
    "import calendar\n",
    "\n",
    "def has_friday_13(month, year):\n",
    "    date_time_str = str(year) + '-' + str(month) + '-13'\n",
    "    date_time_obj = datetime.strptime(date_time_str, '%Y-%m-%d')\n",
    "\n",
    "    dayofweek = calendar.day_name[date_time_obj.weekday()]\n",
    "    if(dayofweek == \"Friday\"):\n",
    "        return True\n",
    "    return False\n",
    "\n",
    "has_friday_13(1, 1985)\n",
    "    "
   ]
  },
  {
   "cell_type": "code",
   "execution_count": 36,
   "metadata": {},
   "outputs": [
    {
     "data": {
      "text/plain": [
       "2"
      ]
     },
     "execution_count": 36,
     "metadata": {},
     "output_type": "execute_result"
    }
   ],
   "source": [
    "#4. Write a regular expression that will help us count how many bad cookies are produced every day. \n",
    "# You must use RegEx negative lookbehind.\n",
    "import re\n",
    "lst = [\"bad cookie\", \"good cookie\", \"bad cookie\", \"good cookie\", \"good cookie\"]\n",
    "pattern = \"(?<!good cookie)bad cookie\"\n",
    "\n",
    "\n",
    "len(re.findall(pattern, \", \".join(lst)))\n",
    "\n"
   ]
  },
  {
   "cell_type": "code",
   "execution_count": 15,
   "metadata": {},
   "outputs": [
    {
     "data": {
      "text/plain": [
       "{'arm', 'chair', 'pencil'}"
      ]
     },
     "execution_count": 15,
     "metadata": {},
     "output_type": "execute_result"
    }
   ],
   "source": [
    "#5. Given a list of words in the singular form, return a set of those words in the plural form if they appear more \n",
    "# than once in the list.\n",
    "\n",
    "def pluralize(word_lst_val):\n",
    "    plural_word_lst = []\n",
    "    for i in word_lst_val:\n",
    "        if word_lst_val.count(i) > 1:\n",
    "            if ((i + 's') not in plural_word_lst):\n",
    "                plural_word_lst.append(i + 's')\n",
    "        else:\n",
    "            plural_word_lst.append(i)\n",
    "    \n",
    "    return set(plural_word_lst)\n",
    "pluralize([\"chair\", \"pencil\", \"arm\"]) "
   ]
  },
  {
   "cell_type": "code",
   "execution_count": null,
   "metadata": {},
   "outputs": [],
   "source": []
  }
 ],
 "metadata": {
  "kernelspec": {
   "display_name": "Python 3",
   "language": "python",
   "name": "python3"
  },
  "language_info": {
   "codemirror_mode": {
    "name": "ipython",
    "version": 3
   },
   "file_extension": ".py",
   "mimetype": "text/x-python",
   "name": "python",
   "nbconvert_exporter": "python",
   "pygments_lexer": "ipython3",
   "version": "3.8.5"
  }
 },
 "nbformat": 4,
 "nbformat_minor": 4
}
