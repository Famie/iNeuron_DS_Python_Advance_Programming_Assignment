{
 "cells": [
  {
   "cell_type": "markdown",
   "metadata": {},
   "source": [
    "# Advance Programming Assignment 4"
   ]
  },
  {
   "cell_type": "code",
   "execution_count": 8,
   "metadata": {},
   "outputs": [
    {
     "data": {
      "text/plain": [
       "12586269025"
      ]
     },
     "execution_count": 8,
     "metadata": {},
     "output_type": "execute_result"
    }
   ],
   "source": [
    "#1. n mathematics, the Fibonacci numbers, commonly denoted Fn, form a sequence, called the Fibonacci sequence, such that each \n",
    "# number is the sum of the two preceding ones, starting from 0 and 1\n",
    "\n",
    "def fib_fast(n):\n",
    "    fibs = [0, 1]\n",
    "    for i in range(2, n+1):\n",
    "        fibs.append(fibs[-1] + fibs[-2])\n",
    "    \n",
    "    \n",
    "    return fibs[n]\n",
    "\n",
    "fib_fast(50)\n"
   ]
  },
  {
   "cell_type": "code",
   "execution_count": 23,
   "metadata": {},
   "outputs": [
    {
     "data": {
      "text/plain": [
       "'4d 61 72 74 79 20 50 6f 70 70 69 6e 73 6f 6e'"
      ]
     },
     "execution_count": 23,
     "metadata": {},
     "output_type": "execute_result"
    }
   ],
   "source": [
    "#2. Create a function that takes a strings characters as ASCII and returns each characters hexadecimal value as a string\n",
    "def convert_to_hex(str_val):    \n",
    "    hex_str_val_lst = [hex(ord(i))[2:4] for i in str_val]\n",
    "    return (' ').join(hex_str_val_lst)\n",
    "\n",
    "convert_to_hex(\"Marty Poppinson\") "
   ]
  },
  {
   "cell_type": "code",
   "execution_count": 31,
   "metadata": {},
   "outputs": [
    {
     "data": {
      "text/plain": [
       "'UPPERCASE'"
      ]
     },
     "execution_count": 31,
     "metadata": {},
     "output_type": "execute_result"
    }
   ],
   "source": [
    "#3.Someone has attempted to censor my strings by replacing every vowel with a *, l*k* th*s. Luckily, I've been able to \n",
    "# find the vowels that were removed. \n",
    "\n",
    "def uncensor(str_val, vowels):\n",
    "    str_val_lst = list(str_val)\n",
    "    vowels_lst = list(vowels)\n",
    "    for i in range(0, len(str_val_lst)):\n",
    "        if str_val_lst[i] == '*':\n",
    "            str_val_lst[i] = vowels_lst[0]\n",
    "            vowels_lst.pop(0)\n",
    "        \n",
    "    return ('').join(str_val_lst)\n",
    "\n",
    "uncensor(\"*PP*RC*S*\", \"UEAE\")"
   ]
  },
  {
   "cell_type": "code",
   "execution_count": 25,
   "metadata": {},
   "outputs": [
    {
     "data": {
      "text/plain": [
       "'dns.google'"
      ]
     },
     "execution_count": 25,
     "metadata": {},
     "output_type": "execute_result"
    }
   ],
   "source": [
    "#4. Write a function that takes an IP address and returns the domain name using PTR DNS records.\n",
    "\n",
    "import socket\n",
    "def get_domain(ip_address):  \n",
    "  return socket.getfqdn(ip_address)\n",
    "\n",
    "get_domain(\"8.8.4.4\") "
   ]
  },
  {
   "cell_type": "code",
   "execution_count": 36,
   "metadata": {},
   "outputs": [
    {
     "data": {
      "text/plain": [
       "24883200"
      ]
     },
     "execution_count": 36,
     "metadata": {},
     "output_type": "execute_result"
    }
   ],
   "source": [
    "#5. Create a function that takes an integer n and returns the factorial of factorials.\n",
    "\n",
    "def fact(num):\n",
    "    if num == 0:\n",
    "        return 1\n",
    "    elif (num > 0):\n",
    "        return num * fact(num-1)\n",
    "\n",
    "def fact_of_fact(num):\n",
    "    total = 1\n",
    "    while(num > 0):\n",
    "        total *= fact(num)\n",
    "        num-=1\n",
    "    return total\n",
    "fact_of_fact(6)\n",
    "    "
   ]
  },
  {
   "cell_type": "code",
   "execution_count": null,
   "metadata": {},
   "outputs": [],
   "source": []
  }
 ],
 "metadata": {
  "kernelspec": {
   "display_name": "Python 3",
   "language": "python",
   "name": "python3"
  },
  "language_info": {
   "codemirror_mode": {
    "name": "ipython",
    "version": 3
   },
   "file_extension": ".py",
   "mimetype": "text/x-python",
   "name": "python",
   "nbconvert_exporter": "python",
   "pygments_lexer": "ipython3",
   "version": "3.8.5"
  }
 },
 "nbformat": 4,
 "nbformat_minor": 4
}
