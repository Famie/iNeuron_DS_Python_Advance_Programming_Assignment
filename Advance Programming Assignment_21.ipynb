{
 "cells": [
  {
   "cell_type": "markdown",
   "metadata": {},
   "source": [
    "# Advance Programming Assignment 21"
   ]
  },
  {
   "cell_type": "code",
   "execution_count": 8,
   "metadata": {},
   "outputs": [
    {
     "name": "stdout",
     "output_type": "stream",
     "text": [
      "g g\n"
     ]
    },
    {
     "data": {
      "text/plain": [
       "1"
      ]
     },
     "execution_count": 8,
     "metadata": {},
     "output_type": "execute_result"
    }
   ],
   "source": [
    "#1. Given a sentence, return the number of words which have the same first and last letter.\n",
    "def count_same_ends(str_val):\n",
    "    lst_val = str_val.split(\" \")\n",
    "    count = 0\n",
    "    for word in lst_val:\n",
    "        first_letter = \"\"\n",
    "        last_letter = \"\"\n",
    "        if len(word) ==1:\n",
    "            continue        \n",
    "        if not word[0].isalpha():\n",
    "            first_letter = word[1]\n",
    "        else:\n",
    "            first_letter = word[0]\n",
    "        \n",
    "        if not word[-1].isalpha():\n",
    "            last_letter = word[-2]\n",
    "        else:\n",
    "            last_letter = word[-1]\n",
    "        \n",
    "        if(first_letter.lower() == last_letter.lower()):\n",
    "            print(first_letter, last_letter)\n",
    "            count +=1\n",
    "    return count\n",
    "count_same_ends(\"No I am not in a gang.\") \n",
    "        \n",
    "        "
   ]
  },
  {
   "cell_type": "code",
   "execution_count": 11,
   "metadata": {},
   "outputs": [
    {
     "data": {
      "text/plain": [
       "'Xsirhgnzh rh gsv 25gs lu Wvxvnyvi'"
      ]
     },
     "execution_count": 11,
     "metadata": {},
     "output_type": "execute_result"
    }
   ],
   "source": [
    "#2. The Atbash cipher is an encryption method in which each letter of a word is replaced with its \"mirror\" \n",
    "# letter in the alphabet: A <=> Z; B <=> Y; C <=> X; etc.\n",
    "\n",
    "def atbash(sentence_val):\n",
    "    lst_val = sentence_val.split(\" \")\n",
    "    alpha_first_part = \"abcdefghijklm\"    \n",
    "    alpha_second_part =\"zyxwvutsrqpon\"        \n",
    "    new_lst_val = []\n",
    "    for word in lst_val:\n",
    "        encrpt_string = \"\"\n",
    "        for i in word:\n",
    "            if i.lower() in alpha_first_part:\n",
    "                new_letter = alpha_second_part[alpha_first_part.index(i.lower())]\n",
    "                if i.isupper():\n",
    "                    new_letter = new_letter.upper()\n",
    "                encrpt_string +=new_letter\n",
    "            elif i.lower() in alpha_second_part:\n",
    "                new_letter = alpha_first_part[alpha_second_part.index(i.lower())]\n",
    "                if i.isupper():\n",
    "                    new_letter = new_letter.upper()\n",
    "                encrpt_string +=new_letter\n",
    "            else:\n",
    "                encrpt_string += i\n",
    "        new_lst_val.append(encrpt_string)\n",
    "    return (\" \").join(new_lst_val)\n",
    "atbash(\"Christmas is the 25th of December\")"
   ]
  },
  {
   "cell_type": "code",
   "execution_count": 46,
   "metadata": {},
   "outputs": [
    {
     "name": "stdout",
     "output_type": "stream",
     "text": [
      "John\n",
      "Major\n",
      "178\n",
      "Italian\n"
     ]
    }
   ],
   "source": [
    "#3.Create a class Employee that will take a full name as argument, as well as a set of none, one or more keywords. \n",
    "#Each instance should have a name and a lastname attributes plus one more attribute for each of the keywords, if any.\n",
    "class Employee:\n",
    "    def __init__(self,full_name, **args):\n",
    "        lst_name_val = full_name.split(\" \")\n",
    "        self.name = lst_name_val[0]\n",
    "        self.lastname = lst_name_val[1]            \n",
    "        for key in args:\n",
    "            setattr(self, key, args[key])\n",
    "john = Employee(\"John Doe\")\n",
    "mary = Employee(\"Mary Major\", salary=120000)\n",
    "richard = Employee(\"Richard Roe\", salary=110000, height=178)\n",
    "giancarlo = Employee(\"Giancarlo Rossi\", salary=115000, height=182, nationality=\"Italian\")\n",
    "\n",
    "print(john.name)\n",
    "print(mary.lastname)\n",
    "print(richard.height)\n",
    "print(giancarlo.nationality)\n"
   ]
  },
  {
   "cell_type": "code",
   "execution_count": 25,
   "metadata": {},
   "outputs": [
    {
     "data": {
      "text/plain": [
       "True"
      ]
     },
     "execution_count": 25,
     "metadata": {},
     "output_type": "execute_result"
    }
   ],
   "source": [
    "#4. Create a function that determines whether each seat can \"see\" the front-stage. A number can \"see\" the front-stage if it \n",
    "# is strictly greater than the number before it.\n",
    "\n",
    "def can_see_stage(lst_val):    \n",
    "    for i in range(0, len(lst_val[0])):                \n",
    "        for j in range(0, len(lst_val)-1):            \n",
    "            if (lst_val[j][i] >= lst_val[j+1][i]):\n",
    "                return False\n",
    "    return True\n",
    "can_see_stage([[1, 2, 3, 2, 1, 1],\n",
    "[2, 4, 4, 3, 2, 2],\n",
    "[5, 5, 5, 5, 4, 4],\n",
    "[6, 6, 7, 6, 5, 5]]\n",
    "\n",
    ") \n",
    "\n",
    "\n",
    "\n"
   ]
  },
  {
   "cell_type": "code",
   "execution_count": 41,
   "metadata": {},
   "outputs": [
    {
     "name": "stdout",
     "output_type": "stream",
     "text": [
      "['bacon', 'parmesan', 'ham']\n",
      "['spinach', 'olives', 'mushroom']\n",
      "1\n",
      "2\n",
      "3\n"
     ]
    }
   ],
   "source": [
    "#5. Create a Pizza class with the attributes order_number and ingredients (which is given as a list). Only the ingredients \n",
    "# will be given as input.\n",
    "\n",
    "class Pizza:\n",
    "    order_num_counter = 0\n",
    "    def __init__(self, ingredients):\n",
    "        self.ingredients = ingredients \n",
    "        Pizza.order_num_counter +=1\n",
    "        self.order_number = Pizza.order_num_counter\n",
    "\n",
    "    @classmethod\n",
    "    def garden_feast(cls):\n",
    "        return cls([\"spinach\", \"olives\", \"mushroom\"])\n",
    "    \n",
    "    @classmethod\n",
    "    def hawaiian(cls):\n",
    "        return cls([\"ham\", \"pineapple\"])\n",
    "    \n",
    "    @classmethod\n",
    "    def meat_festival(cls):\n",
    "        return cls([\"beef\", \"meatball\", \"bacon\"])\n",
    "\n",
    "\n",
    "p1 = Pizza([\"bacon\", \"parmesan\", \"ham\"])\n",
    "p2 = Pizza.garden_feast()  \n",
    "p3 = Pizza.hawaiian()\n",
    "print(p1.ingredients)\n",
    "print(p2.ingredients)\n",
    "print(p1.order_number)\n",
    "print(p2.order_number)\n",
    "print(p3.order_number)\n"
   ]
  },
  {
   "cell_type": "code",
   "execution_count": null,
   "metadata": {},
   "outputs": [],
   "source": []
  }
 ],
 "metadata": {
  "kernelspec": {
   "display_name": "Python 3",
   "language": "python",
   "name": "python3"
  },
  "language_info": {
   "codemirror_mode": {
    "name": "ipython",
    "version": 3
   },
   "file_extension": ".py",
   "mimetype": "text/x-python",
   "name": "python",
   "nbconvert_exporter": "python",
   "pygments_lexer": "ipython3",
   "version": "3.8.5"
  }
 },
 "nbformat": 4,
 "nbformat_minor": 4
}
