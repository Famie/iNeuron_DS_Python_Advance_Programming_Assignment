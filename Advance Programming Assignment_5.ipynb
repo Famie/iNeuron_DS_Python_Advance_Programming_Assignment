{
 "cells": [
  {
   "cell_type": "markdown",
   "metadata": {},
   "source": [
    "# Advance Programming Assignment 5"
   ]
  },
  {
   "cell_type": "code",
   "execution_count": 7,
   "metadata": {},
   "outputs": [
    {
     "data": {
      "text/plain": [
       "2"
      ]
     },
     "execution_count": 7,
     "metadata": {},
     "output_type": "execute_result"
    }
   ],
   "source": [
    "#1. Create a function that takes a number n (integer greater than zero) as an argument, and returns 2 if n is odd \n",
    "# and 8 if n is even.\n",
    "\n",
    "def f(number):\n",
    "    quotient = int(number/2)\n",
    "    return (quotient*2== number) and 8 or 2\n",
    "\n",
    "f(3)"
   ]
  },
  {
   "cell_type": "code",
   "execution_count": 31,
   "metadata": {},
   "outputs": [
    {
     "data": {
      "text/plain": [
       "'None'"
      ]
     },
     "execution_count": 31,
     "metadata": {},
     "output_type": "execute_result"
    }
   ],
   "source": [
    "#2. Create a function that returns the majority vote in a list. A majority vote is an element that occurs > N/2 \n",
    "# times in a list (where N is the length of the list).\n",
    "\n",
    "def majority_vote(lst_val):\n",
    "    unique_lst_val = list(dict.fromkeys(lst_val))\n",
    "    for i in unique_lst_val:\n",
    "        if lst_val.count(i) > len(lst_val)/2:\n",
    "            return i\n",
    "\n",
    "    return 'None'\n",
    "majority_vote([\"A\", \"B\", \"B\", \"A\", \"C\", \"C\"])"
   ]
  },
  {
   "cell_type": "code",
   "execution_count": 50,
   "metadata": {},
   "outputs": [
    {
     "data": {
      "text/plain": [
       "'----- is - Wednesday!'"
      ]
     },
     "execution_count": 50,
     "metadata": {},
     "output_type": "execute_result"
    }
   ],
   "source": [
    "#3. Create a function that takes a string txt and censors any word from a given list lst. The text removed must be replaced \n",
    "# by the given character char\n",
    "def remove_special_char(str_val):\n",
    "    lst_str_val = list(str_val)\n",
    "    for i in range(0,len(lst_str_val)):\n",
    "        if (not lst_str_val[i].isalpha()):\n",
    "            lst_str_val[i] = ''\n",
    "    return ('').join(lst_str_val)\n",
    "\n",
    "\n",
    "def censor_string(str_val, replace_lst_val, censor_chr):\n",
    "    lst_str_val = str_val.split(' ')\n",
    "    for val in replace_lst_val:        \n",
    "        for i in range(0, len(lst_str_val)):\n",
    "            new_str_val = remove_special_char(lst_str_val[i])            \n",
    "            if (new_str_val.lower() == val.lower()):                \n",
    "                lst_str_val[i]=lst_str_val[i].replace(new_str_val,censor_chr * len(val))\n",
    "    return (' ').join(lst_str_val)\n",
    "censor_string(\"Today is a Wednesday!\", [\"Today\", \"a\"], \"-\")\n"
   ]
  },
  {
   "cell_type": "code",
   "execution_count": 41,
   "metadata": {},
   "outputs": [
    {
     "data": {
      "text/plain": [
       "['r', 'o', 'a', 'd']"
      ]
     },
     "execution_count": 41,
     "metadata": {},
     "output_type": "execute_result"
    }
   ],
   "source": [
    "\n"
   ]
  },
  {
   "cell_type": "code",
   "execution_count": 51,
   "metadata": {},
   "outputs": [
    {
     "data": {
      "text/plain": [
       "True"
      ]
     },
     "execution_count": 51,
     "metadata": {},
     "output_type": "execute_result"
    }
   ],
   "source": [
    "#4. In mathematics a Polydivisible Number (or magic number) is a number in a given number base with digits \n",
    "# abcde... that has the following properties\n",
    "def is_polydivisible(num):\n",
    "    str_val = str(num)\n",
    "    if (str_val[0] == \"0\"):\n",
    "        return False\n",
    "    else:\n",
    "        for i in range(1,len(str_val)+1):            \n",
    "            if (int(str_val[0:i])%i != 0):\n",
    "                return False\n",
    "        return True\n",
    "is_polydivisible(12320)            "
   ]
  },
  {
   "cell_type": "code",
   "execution_count": 26,
   "metadata": {},
   "outputs": [
    {
     "data": {
      "text/plain": [
       "'None'"
      ]
     },
     "execution_count": 26,
     "metadata": {},
     "output_type": "execute_result"
    }
   ],
   "source": [
    "#5. Create a function that takes a list of numbers and returns the sum of all prime numbers in the list\n",
    "def sum_primes(lst_val):\n",
    "    total = 0\n",
    "    is_prime = True\n",
    "    for i in lst_val:        \n",
    "        if i == 1:\n",
    "            continue\n",
    "        else:\n",
    "            is_prime = True\n",
    "            for j in range (2,i):\n",
    "                if(i%j == 0):\n",
    "                    is_prime = False\n",
    "                    break\n",
    "            if is_prime:\n",
    "                total += i\n",
    "    if total != 0:        \n",
    "        return total\n",
    "    else:\n",
    "        return 'None'\n",
    "sum_primes([])                 "
   ]
  },
  {
   "cell_type": "code",
   "execution_count": null,
   "metadata": {},
   "outputs": [],
   "source": []
  }
 ],
 "metadata": {
  "kernelspec": {
   "display_name": "Python 3",
   "language": "python",
   "name": "python3"
  },
  "language_info": {
   "codemirror_mode": {
    "name": "ipython",
    "version": 3
   },
   "file_extension": ".py",
   "mimetype": "text/x-python",
   "name": "python",
   "nbconvert_exporter": "python",
   "pygments_lexer": "ipython3",
   "version": "3.8.5"
  }
 },
 "nbformat": 4,
 "nbformat_minor": 4
}
