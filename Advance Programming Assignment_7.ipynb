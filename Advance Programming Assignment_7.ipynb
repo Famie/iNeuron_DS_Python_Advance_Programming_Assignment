{
 "cells": [
  {
   "cell_type": "markdown",
   "metadata": {},
   "source": [
    "# Advance Programming Assignment 7"
   ]
  },
  {
   "cell_type": "code",
   "execution_count": 19,
   "metadata": {},
   "outputs": [
    {
     "data": {
      "text/plain": [
       "5"
      ]
     },
     "execution_count": 19,
     "metadata": {},
     "output_type": "execute_result"
    }
   ],
   "source": [
    "#1. Write a function that counts how many concentric layers a rug\n",
    "def count_layers(lst_val):\n",
    "    mid_val = int((len(lst_val) + 1)/2)    \n",
    "    return mid_val\n",
    "\n",
    "count_layers([\n",
    "  \"AAAAAAAAAAA\",\n",
    "  \"AABBBBBBBAA\",\n",
    "  \"AABCCCCCBAA\",\n",
    "  \"AABCAAACBAA\",\n",
    "  \"AABCADACBAA\",\n",
    "  \"AABCAAACBAA\",\n",
    "  \"AABCCCCCBAA\",\n",
    "  \"AABBBBBBBAA\",\n",
    "  \"AAAAAAAAAAA\"\n",
    "])"
   ]
  },
  {
   "cell_type": "code",
   "execution_count": 7,
   "metadata": {},
   "outputs": [
    {
     "data": {
      "text/plain": [
       "7"
      ]
     },
     "execution_count": 7,
     "metadata": {},
     "output_type": "execute_result"
    }
   ],
   "source": [
    "#2. There are many different styles of music and many albums exhibit multiple styles. Create a function that takes \n",
    "# a list of musical styles from albums and returns how many styles are unique.\n",
    "def unique_styles(lst_val):\n",
    "    tmp_lst_val = []\n",
    "    for i in lst_val:\n",
    "        tmp_lst_val += i.split(',')\n",
    "    unique_lst_val = list(dict.fromkeys(tmp_lst_val))\n",
    "    return len(unique_lst_val)\n",
    "unique_styles([\n",
    "  \"Soul\",\n",
    "  \"House,Folk\",\n",
    "  \"Trance,Downtempo,Big Beat,House\",\n",
    "  \"Deep House\",\n",
    "  \"Soul\"\n",
    "])\n",
    "\n"
   ]
  },
  {
   "cell_type": "code",
   "execution_count": 14,
   "metadata": {},
   "outputs": [
    {
     "data": {
      "text/plain": [
       "'no'"
      ]
     },
     "execution_count": 14,
     "metadata": {},
     "output_type": "execute_result"
    }
   ],
   "source": [
    "#3. Create a function that finds a target number in a list of prime numbers. Implement a binary search algorithm in \n",
    "# your function. The target number will be from 2 through 97. If the target is prime then return \"yes\" else return \"no\"\n",
    "\n",
    "primes = [2, 3, 5, 7, 11, 13, 17, 19, 23, 29, 31, 37, 41, 43, 47, 53, 59, 61, 67, 71, 73, 79, 83, 89, 97]\n",
    "\n",
    "def is_prime(primes, num):\n",
    "      min_val = 0\n",
    "      max_val = len(primes)-1\n",
    "      avg = int((min_val+max_val)/2)\n",
    "      while (min_val < max_val):\n",
    "        if (primes[avg] == num):\n",
    "          return avg\n",
    "        elif (primes[avg] < num):\n",
    "          return avg + 1 + is_prime(primes[avg+1:], num)\n",
    "        else:\n",
    "          return is_prime(primes[:avg], num)\n",
    "    \n",
    "def is_prime(primes, num):\n",
    "    low = 0\n",
    "    high = len(primes) - 1\n",
    "    mid = 0\n",
    " \n",
    "    while low <= high:\n",
    "        mid = (high + low) // 2         \n",
    "        if primes[mid] < num:\n",
    "            low = mid + 1         \n",
    "        elif primes[mid] > num:            \n",
    "            high = mid - 1\n",
    "        else:\n",
    "            return 'yes'\n",
    " \n",
    "    # If we reach here, then the element was not present\n",
    "    return 'no'\n",
    "is_prime(primes, 36) "
   ]
  },
  {
   "cell_type": "code",
   "execution_count": 24,
   "metadata": {},
   "outputs": [
    {
     "data": {
      "text/plain": [
       "3"
      ]
     },
     "execution_count": 24,
     "metadata": {},
     "output_type": "execute_result"
    }
   ],
   "source": [
    "#4. Create a function that takes in n, a, b and returns the number of positive values raised to the nth power \n",
    "# that lie in the range [a, b], inclusive\n",
    "\n",
    "def power_ranger(n, a, b):\n",
    "    counter = 1\n",
    "    count = 0 \n",
    "    while(True):\n",
    "        if a <= counter**n <= b:\n",
    "            count += 1\n",
    "        elif counter**n > b:\n",
    "            break\n",
    "        counter += 1\n",
    "    return count\n",
    "\n",
    "power_ranger(4, 250, 1300)   "
   ]
  },
  {
   "cell_type": "code",
   "execution_count": 4,
   "metadata": {},
   "outputs": [
    {
     "data": {
      "text/plain": [
       "90981"
      ]
     },
     "execution_count": 4,
     "metadata": {},
     "output_type": "execute_result"
    }
   ],
   "source": [
    "#5. Given a number, return the difference between the maximum and minimum numbers that can be formed when \n",
    "# the digits are rearranged.\n",
    "\n",
    "def rearranged_difference(num):\n",
    "    str_val=str(num)\n",
    "    lst_val = list(str_val)\n",
    "    new_lst_val = lst_val.copy()\n",
    "    lst_val.sort(reverse=True)\n",
    "    new_lst_val.sort()\n",
    "    max_val = int(('').join(lst_val))\n",
    "    min_val = int(('').join(new_lst_val))    \n",
    "    return (max_val - min_val)\n",
    "\n",
    "rearranged_difference(90010)"
   ]
  },
  {
   "cell_type": "code",
   "execution_count": null,
   "metadata": {},
   "outputs": [],
   "source": []
  }
 ],
 "metadata": {
  "kernelspec": {
   "display_name": "Python 3",
   "language": "python",
   "name": "python3"
  },
  "language_info": {
   "codemirror_mode": {
    "name": "ipython",
    "version": 3
   },
   "file_extension": ".py",
   "mimetype": "text/x-python",
   "name": "python",
   "nbconvert_exporter": "python",
   "pygments_lexer": "ipython3",
   "version": "3.8.5"
  }
 },
 "nbformat": 4,
 "nbformat_minor": 4
}
