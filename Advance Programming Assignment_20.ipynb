{
 "cells": [
  {
   "cell_type": "markdown",
   "metadata": {},
   "source": [
    "# Advance Programming Assignment 20"
   ]
  },
  {
   "cell_type": "code",
   "execution_count": 4,
   "metadata": {},
   "outputs": [
    {
     "data": {
      "text/plain": [
       "\"<p class='four five'></p>\""
      ]
     },
     "execution_count": 4,
     "metadata": {},
     "output_type": "execute_result"
    }
   ],
   "source": [
    "#1.  Create a function based on the input and output. Look at the examples, there is a pattern.\n",
    "\n",
    "def secret(str_val):\n",
    "    str_val = str_val.replace('.',' ')\n",
    "    htmltag = f\"<{str_val[0:1]} class='{str_val[2:len(str_val)]}'></{str_val[0:1]}>\"\n",
    "    return htmltag\n",
    "secret(\"p.four.five\") \n",
    "    \n"
   ]
  },
  {
   "cell_type": "code",
   "execution_count": 9,
   "metadata": {},
   "outputs": [
    {
     "data": {
      "text/plain": [
       "0"
      ]
     },
     "execution_count": 9,
     "metadata": {},
     "output_type": "execute_result"
    }
   ],
   "source": [
    "#2. Create a function which counts how many lone 1s appear in a given number. Lone means the number doesn't appear \n",
    "#twice or more in a row.\n",
    "def count_lone_ones(num):\n",
    "    str_val = str(num)\n",
    "    curr_digit = \"0\"\n",
    "    lone_count = 0\n",
    "    for i in range(0,len(str_val)-1):\n",
    "        if (str_val[i] == \"1\") and (curr_digit != \"1\") and (str_val[i] != str_val[i+1]):\n",
    "            lone_count +=1\n",
    "        curr_digit = str_val[i]\n",
    "    if (str_val[len(str_val)-1] == \"1\") and (curr_digit != \"1\"):\n",
    "        lone_count +=1\n",
    "    return lone_count\n",
    "count_lone_ones(462) "
   ]
  },
  {
   "cell_type": "code",
   "execution_count": 12,
   "metadata": {},
   "outputs": [
    {
     "data": {
      "text/plain": [
       "[[1], [2], [3], [4]]"
      ]
     },
     "execution_count": 12,
     "metadata": {},
     "output_type": "execute_result"
    }
   ],
   "source": [
    "#3. Write a method that accepts two integer parameters rows and cols. The output is a 2d array of numbers displayed in \n",
    "#column-major order, meaning the numbers shown increase sequentially down each column and wrap to the top of the next \n",
    "#column to the right once the bottom of the current column is reached.\n",
    "def printGrid(row,col):\n",
    "    grid_lst_val = []\n",
    "    \n",
    "    for i in range(1, row+1):\n",
    "        tmp_lst_val = []\n",
    "        curr_val = i\n",
    "        for j in range(0, col):            \n",
    "            tmp_lst_val.append(curr_val)\n",
    "            curr_val += row\n",
    "        grid_lst_val.append(tmp_lst_val)\n",
    "    return grid_lst_val\n",
    "printGrid(4, 1)\n",
    "        \n",
    "                \n",
    "            "
   ]
  },
  {
   "cell_type": "code",
   "execution_count": 18,
   "metadata": {},
   "outputs": [
    {
     "data": {
      "text/plain": [
       "1"
      ]
     },
     "execution_count": 18,
     "metadata": {},
     "output_type": "execute_result"
    }
   ],
   "source": [
    "#4. Given a list of integers, return the smallest positive integer not present in the list.\n",
    "def min_miss_pos(lst_val):\n",
    "    lst_val.sort()\n",
    "    for i in range(min(lst_val), max(lst_val)+1):\n",
    "        if (i > 0) and (i not in lst_val):\n",
    "            return i\n",
    "min_miss_pos([0, 4, 4, -1, 9, 4, 5, 2, 10, 7, 6, 3, 10, 9])"
   ]
  },
  {
   "cell_type": "code",
   "execution_count": 21,
   "metadata": {},
   "outputs": [
    {
     "data": {
      "text/plain": [
       "['Batman', 'Spider-Man']"
      ]
     },
     "execution_count": 21,
     "metadata": {},
     "output_type": "execute_result"
    }
   ],
   "source": [
    "#5. Create a function that takes a dictionary of customers, a minimum number of orders and a minimum order price. \n",
    "#Return a list of customers that are eligible for a free pizza.\n",
    "customers = {\n",
    "  \"Batman\": [22, 30, 11, 17, 15, 52, 27, 12],\n",
    "  \"Spider-Man\": [5, 17, 30, 33, 40, 22, 26, 10, 11, 45]\n",
    "}\n",
    "\n",
    "def pizza_points(customers, min_num_orders, min_order_price):\n",
    "    free_pizza_cust_lst_val = []\n",
    "    for key,value in customers.items():\n",
    "        order_count = 0\n",
    "        for price in value:\n",
    "            if (price >= min_order_price):\n",
    "                order_count +=1\n",
    "        if(order_count >= min_num_orders):\n",
    "            free_pizza_cust_lst_val.append(key)\n",
    "    return free_pizza_cust_lst_val\n",
    "pizza_points(customers, 3, 10)\n",
    "    "
   ]
  },
  {
   "cell_type": "code",
   "execution_count": null,
   "metadata": {},
   "outputs": [],
   "source": []
  }
 ],
 "metadata": {
  "kernelspec": {
   "display_name": "Python 3",
   "language": "python",
   "name": "python3"
  },
  "language_info": {
   "codemirror_mode": {
    "name": "ipython",
    "version": 3
   },
   "file_extension": ".py",
   "mimetype": "text/x-python",
   "name": "python",
   "nbconvert_exporter": "python",
   "pygments_lexer": "ipython3",
   "version": "3.8.5"
  }
 },
 "nbformat": 4,
 "nbformat_minor": 4
}
