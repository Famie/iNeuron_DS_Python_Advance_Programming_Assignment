{
 "cells": [
  {
   "cell_type": "markdown",
   "metadata": {},
   "source": [
    "# Advance Programming Assignment 22"
   ]
  },
  {
   "cell_type": "code",
   "execution_count": 41,
   "metadata": {},
   "outputs": [
    {
     "name": "stdout",
     "output_type": "stream",
     "text": [
      "['Banana']\n",
      "$0.5\n",
      "$1.25\n",
      "Banana Smoothie\n",
      "['Raspberries', 'Strawberries', 'Blueberries']\n",
      "$3.5\n",
      "$8.75\n",
      "Raspberry Strawberry Blueberry Fusion\n"
     ]
    }
   ],
   "source": [
    "#1. Create a class Smoothie and do the following\n",
    "\n",
    "class Smoothie:\n",
    "  ingredient_price_dict_val = {\n",
    "      \"Strawberries\":1.50,\n",
    "      \"Banana\" : 0.50,\n",
    "      \"Mango\" : 2.50,\n",
    "      \"Blueberries\" : 1.00,\n",
    "      \"Raspberries\" : 1.00,\n",
    "      \"Apple\" : 1.75,\n",
    "      \"Pineapple\" : 3.50\n",
    "  }\n",
    "  \n",
    "  def __init__(self, ingredients):\n",
    "      self.ingredients = ingredients\n",
    "  \n",
    "  def get_cost(self):\n",
    "      cost = 0.0\n",
    "      for i in self.ingredients:\n",
    "          cost += Smoothie.ingredient_price_dict_val[i]\n",
    "      return f\"${cost}\" \n",
    "\n",
    "  def get_price(self):\n",
    "      price = 0.0\n",
    "      price = float(self.get_cost()[1::]) + (float(self.get_cost()[1::]) * 1.5)\n",
    "      price = round(price, 2)\n",
    "      return f\"${price}\"\n",
    "  \n",
    "  def get_name(self):\n",
    "      name = \"\"\n",
    "      if len(self.ingredients) == 1:\n",
    "          name = self.ingredients[0]\n",
    "          if \"berries\" in name:\n",
    "              name = name.replace(\"ies\",\"y\")\n",
    "          name += \" Smoothie\"\n",
    "      else:\n",
    "          for i in self.ingredients:\n",
    "              if \"berries\" in i:\n",
    "                  name += i.replace(\"ies\",\"y\") + \" \"\n",
    "              else:\n",
    "                  name += i + \" \"\n",
    "          name += \"Fusion\"\n",
    "      return name\n",
    "s1 = Smoothie([\"Banana\"])\n",
    "print(s1.ingredients)\n",
    "print(s1.get_cost()) \n",
    "print(s1.get_price()) \n",
    "print(s1.get_name()) \n",
    "s2 = Smoothie([\"Raspberries\", \"Strawberries\", \"Blueberries\"])\n",
    "print(s2.ingredients) \n",
    "print(s2.get_cost())\n",
    "print(s2.get_price())\n",
    "print(s2.get_name())"
   ]
  },
  {
   "cell_type": "code",
   "execution_count": 48,
   "metadata": {},
   "outputs": [
    {
     "name": "stdout",
     "output_type": "stream",
     "text": [
      "No tests taken\n",
      "{'Maths': 'Passed! (80%)'}\n",
      "No tests taken\n",
      "{'Chemistry': 'Failed! (25%)', 'Computing': 'Failed! (43%)'}\n"
     ]
    }
   ],
   "source": [
    "#2. Your task is to write a program which allows teachers to create a multiple choice test in a class called Testpaper and \n",
    "#to be also able to assign a minimum pass mark.\n",
    "class Testpaper:\n",
    "    def __init__(self, subject, markscheme, pass_mark):\n",
    "        self.subject = subject\n",
    "        self.markscheme = markscheme\n",
    "        self.pass_mark = pass_mark\n",
    "        \n",
    "class Student:            \n",
    "    \n",
    "    def __init__(self):\n",
    "        self.tests_taken = \"No tests taken\"\n",
    "    \n",
    "    \n",
    "        \n",
    "    def take_test(self, Testpaper, marks):\n",
    "        if type(self.tests_taken) == str:\n",
    "            self.tests_taken = {}\n",
    "        correct_ans = 0\n",
    "        for i in range(0, len(marks)):\n",
    "            if (Testpaper.markscheme[i] == marks[i]):\n",
    "                correct_ans += 1\n",
    "        percent_marks = int(round(correct_ans/len(Testpaper.markscheme) * 100))\n",
    "        if(percent_marks >= int(Testpaper.pass_mark[0:len(Testpaper.pass_mark)-1])):\n",
    "            self.tests_taken[Testpaper.subject] = f\"Passed! ({percent_marks}%)\" \n",
    "        else:\n",
    "            self.tests_taken[Testpaper.subject] = f\"Failed! ({percent_marks}%)\"\n",
    "            \n",
    "paper1 = Testpaper(\"Maths\", [\"1A\", \"2C\", \"3D\", \"4A\", \"5A\"], \"60%\")\n",
    "paper2 = Testpaper(\"Chemistry\", [\"1C\", \"2C\", \"3D\", \"4A\"], \"75%\")\n",
    "paper3 = Testpaper(\"Computing\", [\"1D\", \"2C\", \"3C\", \"4B\", \"5D\", \"6C\", \"7A\"], \"75%\")\n",
    "\n",
    "student1 = Student()\n",
    "student2 = Student()\n",
    "\n",
    "print(student1.tests_taken)\n",
    "student1.take_test(paper1, [\"1A\", \"2D\", \"3D\", \"4A\", \"5A\"])\n",
    "print(student1.tests_taken)\n",
    "\n",
    "print(student2.tests_taken)\n",
    "student2.take_test(paper2, [\"1C\", \"2D\", \"3A\", \"4C\"])\n",
    "student2.take_test(paper3, [\"1A\", \"2C\", \"3A\", \"4C\", \"5D\", \"6C\", \"7B\"])\n",
    "print(student2.tests_taken)\n",
    "\n"
   ]
  },
  {
   "cell_type": "code",
   "execution_count": 40,
   "metadata": {},
   "outputs": [
    {
     "data": {
      "text/plain": [
       "'14:22'"
      ]
     },
     "execution_count": 40,
     "metadata": {},
     "output_type": "execute_result"
    }
   ],
   "source": [
    "#3. Create a function that will help to plan out and manage these delays! Create a function called manage_delays that\n",
    "# does the following\n",
    "from datetime import datetime, timedelta\n",
    "class Train:\n",
    "    def __init__(self, station_lst_val, expected_time):\n",
    "        self.station_lst_val = station_lst_val\n",
    "        self.expected_time = expected_time\n",
    "\n",
    "def manage_delays(Train, destination, delay):\n",
    "    datetime_object = datetime.strptime('Jan 1 2000 ' + Train.expected_time, '%b %d %Y %H:%M')\n",
    "    if destination in Train.station_lst_val:\n",
    "        minutes = delay\n",
    "        minutes_added = timedelta(minutes = minutes)\n",
    "        future_date_and_time = datetime_object + minutes_added\n",
    "        Train.expected_time = future_date_and_time.strftime(\"%H:%M\")\n",
    "\n",
    "trains = [\n",
    "  Train([\"Townsville\", \"Suburbia\", \"Urbantska\"], \"13:04\"),\n",
    "  Train([\"Farmsdale\", \"Suburbia\", \"Lakeside Valley\"], \"13:20\"),\n",
    "  Train([\"Suburbia\", \"Townsville\", \"Lakeside Valley\"], \"13:22\")\n",
    "]\n",
    "\n",
    "for t in trains:\n",
    "    manage_delays(t, \"Lakeside Valley\", 60)\n",
    "\n",
    "trains[2].expected_time\n"
   ]
  },
  {
   "cell_type": "code",
   "execution_count": 26,
   "metadata": {},
   "outputs": [
    {
     "data": {
      "text/plain": [
       "1"
      ]
     },
     "execution_count": 26,
     "metadata": {},
     "output_type": "execute_result"
    }
   ],
   "source": [
    "#4. Ted works as a computer programmer at Minecraft Inc. His boss has just given him an important assignment to update the \n",
    "#code for the minecart tracks by the end of April. However, he has recently had to self-isolate due to Corvid-19 and \n",
    "#has left the code for the tracks BACK AT WORK!! He has the shorthand for the tracks he's supposed to look at, and \n",
    "#where the carts are suppost to end up, but not the actual code.\n",
    "class MineCart:\n",
    "    def __init__(self, velocity = 0):\n",
    "        self.velocity = velocity\n",
    "        self.index = 0\n",
    "\n",
    "    def speed_up(self):\n",
    "        self.velocity += 2.67\n",
    "        self.index =2.67\n",
    "    \n",
    "    def powered(self):\n",
    "        self.index =1\n",
    "    \n",
    "    def slow_down(self):\n",
    "        if self.velocity > 0:\n",
    "            self.velocity -= 2.67\n",
    "        self.index =2.67\n",
    "    \n",
    "    def unpowered(self):\n",
    "        if self.velocity > 0:\n",
    "            self.velocity -= 1\n",
    "        self.index =1\n",
    "    \n",
    "    def cart_run(self, track):        \n",
    "        if (track ==  \"-->\"):\n",
    "            self.speed_up()\n",
    "        elif (track ==  \"<-->\"):\n",
    "            self.powered()\n",
    "        elif (track ==  \"<--\"):\n",
    "            self.slow_down()\n",
    "        elif (track ==  \"--\"):\n",
    "            self.unpowered()\n",
    "def mine_run(track_lst_val):\n",
    "    cart = MineCart()\n",
    "    for track in track_lst_val:\n",
    "        cart.cart_run(track)\n",
    "    if (cart.velocity <= 0 ):\n",
    "        return True\n",
    "    else:\n",
    "        return cart.index\n",
    "\n",
    "mine_run([\"-->\", \"<--\", \"-->\", \"-->\", \"<-->\", \"---\"]) "
   ]
  },
  {
   "cell_type": "code",
   "execution_count": 19,
   "metadata": {},
   "outputs": [
    {
     "data": {
      "text/plain": [
       "False"
      ]
     },
     "execution_count": 19,
     "metadata": {},
     "output_type": "execute_result"
    }
   ],
   "source": [
    "#5. Make a Rectangle class with four parameters, an x, a y (representing the top-left corner of the rectangle), a width \n",
    "#and a height exclusively in that order.\n",
    "class Rectangle:\n",
    "    def __init__(self, x1,y1, width, height):\n",
    "        self.x1 = x1\n",
    "        self.y1 = y1\n",
    "        self.x2 = x1 + width\n",
    "        self.y2 = y1 + height\n",
    "        self.width = width\n",
    "        self.height = height\n",
    "def intersecting(rec1, rec2):\n",
    "    \n",
    "      \n",
    "    if(rec1.x1 <= rec2.x2 and rec1.x2 >= rec2.x1) and (rec1.y1 <= rec2.y2 and rec1.y2 >= rec2.y1):\n",
    "        return True\n",
    "    return False\n",
    "a = Rectangle(10, 20, 100, 20)\n",
    "b = Rectangle(10, 40, 15, 20)\n",
    "c = Rectangle(50, 50, 20, 30)\n",
    "\n",
    "\n",
    "\n",
    "intersecting(b, c) \n",
    " \n",
    "\n",
    "\n",
    "        "
   ]
  },
  {
   "cell_type": "code",
   "execution_count": null,
   "metadata": {},
   "outputs": [],
   "source": []
  }
 ],
 "metadata": {
  "kernelspec": {
   "display_name": "Python 3",
   "language": "python",
   "name": "python3"
  },
  "language_info": {
   "codemirror_mode": {
    "name": "ipython",
    "version": 3
   },
   "file_extension": ".py",
   "mimetype": "text/x-python",
   "name": "python",
   "nbconvert_exporter": "python",
   "pygments_lexer": "ipython3",
   "version": "3.8.5"
  }
 },
 "nbformat": 4,
 "nbformat_minor": 4
}
