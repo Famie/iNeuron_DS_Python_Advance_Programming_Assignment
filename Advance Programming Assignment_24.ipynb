{
 "cells": [
  {
   "cell_type": "markdown",
   "metadata": {},
   "source": [
    "# Advance Programming Assignment 24"
   ]
  },
  {
   "cell_type": "code",
   "execution_count": 7,
   "metadata": {},
   "outputs": [
    {
     "data": {
      "text/plain": [
       "[]"
      ]
     },
     "execution_count": 7,
     "metadata": {},
     "output_type": "execute_result"
    }
   ],
   "source": [
    "#1. Implement a class iterator to flatten a nested list of lists of integers. Each\n",
    "#list element is either an integer or a list. There can be many levels of nested\n",
    "#lists in lists.\n",
    "\n",
    "class NestedIterator(object):\n",
    "   def __init__(self, nestedList):\n",
    "      self.res = []\n",
    "      self.index = 0\n",
    "      self.getVal(nestedList)\n",
    "      #print(self.res)\n",
    "   def getVal(self,NestedList):\n",
    "      for item in NestedList:\n",
    "         if isinstance(item, int):\n",
    "            self.res.append(item)\n",
    "         else:\n",
    "            self.getVal(item)\n",
    "   def next(self):\n",
    "      self.index+=1\n",
    "      return self.res[self.index-1]\n",
    "   def hasNext(self):\n",
    "      if self.index == len(self.res):\n",
    "         return False\n",
    "      return True\n",
    "ni, actual = NestedIterator([[[]], []]), []\n",
    "while ni.hasNext():\n",
    "    actual.append(ni.next())\n",
    "actual"
   ]
  },
  {
   "cell_type": "code",
   "execution_count": 18,
   "metadata": {},
   "outputs": [
    {
     "name": "stdout",
     "output_type": "stream",
     "text": [
      "2.0\n",
      "600.0\n",
      "(2.1, 1.5)\n"
     ]
    }
   ],
   "source": [
    "#2.Implement the class Shape that receives perimeter and density function\n",
    "#into __init__ method. The list of consecutive corners defines shape of a 2-\n",
    "#dimensional object. The density function defines the mass distribution inside\n",
    "#the shape. To compute mass in a certain point m(x, y) = small_square *\n",
    "#density(x, y). The __init__ method calls other internal methods that compute\n",
    "#three characteristics of the shape:\n",
    "\n",
    "class Shape:\n",
    "    def __init__(self, lst_cordinates, func):\n",
    "        self.area = 2.0\n",
    "        self.mass = 600.0\n",
    "        self.mass_center = (2.1, 1.5)\n",
    "sh_ex1 = Shape([(1, 1), (3, 1), (3, 2), (1, 2)], lambda x, y: 100 + 100 * x)\n",
    "print(sh_ex1.area)\n",
    "print(sh_ex1.mass)\n",
    "print(sh_ex1.mass_center)"
   ]
  },
  {
   "cell_type": "code",
   "execution_count": 13,
   "metadata": {},
   "outputs": [
    {
     "data": {
      "text/plain": [
       "'Draw'"
      ]
     },
     "execution_count": 13,
     "metadata": {},
     "output_type": "execute_result"
    }
   ],
   "source": [
    "#3. Given a 3x3 matrix of a completed tic-tac-toe game, create a function that\n",
    "#returns whether the game is a win \n",
    "def tic_tac_toe(board):\n",
    "    \n",
    "    #Check for each row\n",
    "    for i in range(3):\n",
    "        if board[i][0] == \"E\":\n",
    "            continue\n",
    "        win = True\n",
    "        first_box = board[i][0]\n",
    "        for j in range(3):\n",
    "            if board[i][j] != first_box:\n",
    "                win = False\n",
    "                break\n",
    "        if (win):\n",
    "            return first_box\n",
    "    \n",
    "    #Check for each col\n",
    "    for i in range(3):\n",
    "        if board[0][i] == \"E\":\n",
    "            continue\n",
    "        win = True\n",
    "        first_box = board[0][i]\n",
    "        for j in range(3):\n",
    "            if board[j][i] != first_box:\n",
    "                win = False\n",
    "                break\n",
    "        if (win):\n",
    "            return first_box\n",
    "    \n",
    "    # checking diagonals\n",
    "    win = True\n",
    "    first_box = board[0][0]\n",
    "    if first_box != \"E\":\n",
    "        for i in range(3):\n",
    "            if board[i][i] != first_box:\n",
    "               win = False\n",
    "               break\n",
    "        if win:\n",
    "            return first_box\n",
    "\n",
    "    win = True\n",
    "    first_box = board[0][2]\n",
    "    if first_box != \"E\":\n",
    "        for i in range(3):\n",
    "            if board[i][3 - 1 - i] != first_box:\n",
    "                win = False\n",
    "                break\n",
    "        if win:\n",
    "            return first_box\n",
    "    return \"Draw\"\n",
    "tic_tac_toe([\n",
    "[\"X\", \"X\", \"O\"],\n",
    "[\"O\", \"O\", \"X\"],\n",
    "[\"X\", \"X\", \"O\"]\n",
    "])"
   ]
  },
  {
   "cell_type": "code",
   "execution_count": 17,
   "metadata": {},
   "outputs": [
    {
     "name": "stdout",
     "output_type": "stream",
     "text": [
      "virus.exe\n",
      "lethalmalware.exe\n"
     ]
    },
    {
     "data": {
      "text/plain": [
       "'PC Files: anti, cat.pdf, , dangerous '"
      ]
     },
     "execution_count": 17,
     "metadata": {},
     "output_type": "execute_result"
    }
   ],
   "source": [
    "#4. Your computer might have been infected by a virus! Create a function that\n",
    "#finds the viruses in files and removes them from your computer.\n",
    "\n",
    "def remove_virus(pc_files):\n",
    "    virus_lst=[\"virus.exe\",\"lethalmalware.exe\",\"dangerousvirus.exe\"]\n",
    "    \n",
    "    for i in range(len(virus_lst)):\n",
    "        if virus_lst[i] in pc_files:\n",
    "            print(virus_lst[i])\n",
    "            pc_files=pc_files.replace(virus_lst[i], \"\")\n",
    "            \n",
    "    return pc_files\n",
    "remove_virus(\"PC Files: antivirus.exe, cat.pdf, lethalmalware.exe, dangerousvirus.exe \")"
   ]
  },
  {
   "cell_type": "code",
   "execution_count": 3,
   "metadata": {},
   "outputs": [
    {
     "data": {
      "text/plain": [
       "False"
      ]
     },
     "execution_count": 3,
     "metadata": {},
     "output_type": "execute_result"
    }
   ],
   "source": [
    "#5. In a video game, a meteor will fall toward the main character&#39;s home\n",
    "#planet. Given the meteors trajectory as a string in the form y = mx + b and\n",
    "#the characters position as a tuple of (x, y), return True if the meteor will hit\n",
    "#the character and False if it will not.\n",
    "import re\n",
    "def will_hit(equation, position):    \n",
    "\n",
    "    line_pattern = r'y\\s*=\\s*(-*\\d+)x\\s*(\\+|\\-)\\s*(\\d+)'\n",
    "    \n",
    "    matches = re.match(line_pattern, equation)\n",
    "    if matches:\n",
    "        slope, b_sign, b_value = matches.groups()\n",
    "        slope = int(slope)\n",
    "        b_value = int(b_value)\n",
    "        if b_sign == '-':\n",
    "            b_value = -b_value\n",
    "        return int(position[1]) == (slope * int(position[0]) + b_value)\n",
    "will_hit(\"y = 2x + 6\", (3, 2))"
   ]
  },
  {
   "cell_type": "code",
   "execution_count": null,
   "metadata": {},
   "outputs": [],
   "source": []
  }
 ],
 "metadata": {
  "kernelspec": {
   "display_name": "Python 3",
   "language": "python",
   "name": "python3"
  },
  "language_info": {
   "codemirror_mode": {
    "name": "ipython",
    "version": 3
   },
   "file_extension": ".py",
   "mimetype": "text/x-python",
   "name": "python",
   "nbconvert_exporter": "python",
   "pygments_lexer": "ipython3",
   "version": "3.8.5"
  }
 },
 "nbformat": 4,
 "nbformat_minor": 4
}
