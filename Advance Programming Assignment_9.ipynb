{
 "cells": [
  {
   "cell_type": "markdown",
   "metadata": {},
   "source": [
    "# Advance Programming Assignment 9"
   ]
  },
  {
   "cell_type": "code",
   "execution_count": 46,
   "metadata": {},
   "outputs": [
    {
     "data": {
      "text/plain": [
       "'102:40:18'"
      ]
     },
     "execution_count": 46,
     "metadata": {},
     "output_type": "execute_result"
    }
   ],
   "source": [
    "#1. YouTube offers different playback speed options for users. This allows users to increase or decrease the speed of the \n",
    "# video content. Given the actual duration and playback speed of the video, calculate the playback duration of the video.\n",
    "\n",
    "def playback_duration(time_str, speed):    \n",
    "    convert_to_seconds = (int(time_str[0:2]) * 3600) + (int(time_str[3:5]) * 60) + int(time_str[7:9])\n",
    "    playback_duration_sec = convert_to_seconds/speed\n",
    "    hms = playback_duration_sec/3600\n",
    "    hour = int(hms)\n",
    "    ms = (hms - hour) * 60\n",
    "    minute = int(ms)\n",
    "    s = ms - minute\n",
    "    second = int(s * 60)\n",
    "    hour_str = (len(str(hour))==1) and ('0'+str(hour)) or str(hour)\n",
    "    minute_str =(len(str(minute)) == 1) and ('0'+str(minute)) or str(minute)\n",
    "    second_str = (len(str(second)) ==1) and ('0'+str(second)) or str(second)\n",
    "    \n",
    "    time_str = hour_str + \":\" + minute_str + ':' + second_str\n",
    "    return time_str\n",
    "\n",
    "playback_duration(\"51:20:09\", 0.5)\n"
   ]
  },
  {
   "cell_type": "code",
   "execution_count": 49,
   "metadata": {},
   "outputs": [
    {
     "data": {
      "text/plain": [
       "'None'"
      ]
     },
     "execution_count": 49,
     "metadata": {},
     "output_type": "execute_result"
    }
   ],
   "source": [
    "#2. We needs your help to construct a building which will be a pile of n cubes.\n",
    "# The cube at the bottom will have a volume of n^3, the cube above will have\n",
    "# volume of (n-1)^3 and so on until the top which will have a volume of 1^3.\n",
    "\n",
    "def pile_of_cubes(m):\n",
    "    cube = 1\n",
    "    total_volume = 0 \n",
    "    while (total_volume != m):\n",
    "        total_volume += (cube ** 3)\n",
    "        if (total_volume > m):\n",
    "            break\n",
    "        cube += 1\n",
    "    if (total_volume == m):\n",
    "        return (cube-1)\n",
    "    else:\n",
    "        return 'None'\n",
    "    \n",
    "pile_of_cubes(16) \n",
    "    "
   ]
  },
  {
   "cell_type": "code",
   "execution_count": 7,
   "metadata": {},
   "outputs": [
    {
     "data": {
      "text/plain": [
       "-1"
      ]
     },
     "execution_count": 7,
     "metadata": {},
     "output_type": "execute_result"
    }
   ],
   "source": [
    "#3. A fulcrum of a list is an integer such that all elements to the left of it and all elements to the right of it sum to \n",
    "# the same value. Write a function that finds the fulcrum of a list\n",
    "def find_fulcrum(lst_val):\n",
    "    \n",
    "    fulcrum = 0\n",
    "    for i in range(1, len(lst_val)-1):\n",
    "        fulcrum = lst_val[i]        \n",
    "        if (sum(lst_val[0:i]) ==  sum(lst_val[i+1:len(lst_val)])):\n",
    "            return fulcrum        \n",
    "    return -1\n",
    "find_fulcrum([8, 8, 8, 8])"
   ]
  },
  {
   "cell_type": "code",
   "execution_count": 10,
   "metadata": {},
   "outputs": [
    {
     "data": {
      "text/plain": [
       "0"
      ]
     },
     "execution_count": 10,
     "metadata": {},
     "output_type": "execute_result"
    }
   ],
   "source": [
    "#4. Given a list of integers representing the color of each sock, determine how many pairs of socks with matching colors \n",
    "#there are. For example, there are 7 socks with colors [1, 2, 1, 2, 1, 3, 2]. There is one pair of color 1 and one of color 2. \n",
    "\n",
    "def sock_merchant(lst_val):\n",
    "    unique_lst_val = list(dict.fromkeys(lst_val))\n",
    "    sock_pair_count = 0\n",
    "    for i in unique_lst_val:\n",
    "        if(int(lst_val.count(i)/2) != 0):\n",
    "            sock_pair_count += int(lst_val.count(i)/2)\n",
    "    return sock_pair_count\n",
    "sock_merchant([])"
   ]
  },
  {
   "cell_type": "code",
   "execution_count": 14,
   "metadata": {},
   "outputs": [
    {
     "data": {
      "text/plain": [
       "-33"
      ]
     },
     "execution_count": 14,
     "metadata": {},
     "output_type": "execute_result"
    }
   ],
   "source": [
    "#5. Create a function that takes a string containing integers as well as other characters and return the \n",
    "#sum of the negative integers only.\n",
    "import re\n",
    "def negative_sum(str_val):\n",
    "    pattern = re.compile(r\"-\\d+\")\n",
    "    lst_val = pattern.findall(str_val)\n",
    "    total_sum = 0\n",
    "    for i in lst_val:\n",
    "        total_sum += int(i)\n",
    "    return total_sum\n",
    "negative_sum(\"22 13%14&-11-22 13 12\") "
   ]
  },
  {
   "cell_type": "code",
   "execution_count": null,
   "metadata": {},
   "outputs": [],
   "source": []
  }
 ],
 "metadata": {
  "kernelspec": {
   "display_name": "Python 3",
   "language": "python",
   "name": "python3"
  },
  "language_info": {
   "codemirror_mode": {
    "name": "ipython",
    "version": 3
   },
   "file_extension": ".py",
   "mimetype": "text/x-python",
   "name": "python",
   "nbconvert_exporter": "python",
   "pygments_lexer": "ipython3",
   "version": "3.8.5"
  }
 },
 "nbformat": 4,
 "nbformat_minor": 4
}
