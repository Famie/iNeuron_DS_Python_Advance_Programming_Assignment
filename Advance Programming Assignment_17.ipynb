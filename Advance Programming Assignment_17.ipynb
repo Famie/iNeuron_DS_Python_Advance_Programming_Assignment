{
 "cells": [
  {
   "cell_type": "markdown",
   "metadata": {},
   "source": [
    "# Advance Programming Assignment 17"
   ]
  },
  {
   "cell_type": "code",
   "execution_count": 11,
   "metadata": {},
   "outputs": [
    {
     "data": {
      "text/plain": [
       "[[1, 2, 3], [1, 2, 3], [1, 2, 3]]"
      ]
     },
     "execution_count": 11,
     "metadata": {},
     "output_type": "execute_result"
    }
   ],
   "source": [
    "#1. Create a function that transposes a 2D matrix.\n",
    "\n",
    "def transpose_matrix(lst_val):\n",
    "    transpose_lst = []\n",
    "    for i in range(0, len(lst_val[0])):\n",
    "        tmp_lst = []\n",
    "        for j in range(0, len(lst_val)):\n",
    "            tmp_lst.append(lst_val[j][i])\n",
    "            \n",
    "        transpose_lst.append(tmp_lst)\n",
    "    return transpose_lst\n",
    "transpose_matrix([\n",
    "  [1, 1, 1],\n",
    "  [2, 2, 2],\n",
    "  [3, 3, 3]\n",
    "])\n",
    "\n",
    "\n"
   ]
  },
  {
   "cell_type": "code",
   "execution_count": 19,
   "metadata": {},
   "outputs": [
    {
     "data": {
      "text/plain": [
       "False"
      ]
     },
     "execution_count": 19,
     "metadata": {},
     "output_type": "execute_result"
    }
   ],
   "source": [
    "#2. Create a function that determines whether a string is a valid hex code.\n",
    "import re\n",
    "def is_valid_hex_code(hex_val):\n",
    "    pattern = re.compile(r'^#[0-9a-fA-F]{6}$')\n",
    "    lst_val = pattern.findall(hex_val)\n",
    "    if (len(lst_val)==0):\n",
    "        return False\n",
    "    if (lst_val[0] == hex_val):\n",
    "        return True\n",
    "    return False\n",
    "is_valid_hex_code(\"CD5C5C\") \n",
    "    \n",
    "    "
   ]
  },
  {
   "cell_type": "code",
   "execution_count": 30,
   "metadata": {},
   "outputs": [
    {
     "data": {
      "text/plain": [
       "'75%'"
      ]
     },
     "execution_count": 30,
     "metadata": {},
     "output_type": "execute_result"
    }
   ],
   "source": [
    "#3. Given a list of math equations (given as strings), return the percentage of correct answers as a string. \n",
    "#Round to the nearest whole number.\n",
    "\n",
    "import re\n",
    "def mark_maths(eq_lst_val):\n",
    "    total_correct_val = 0\n",
    "    for eq in eq_lst_val:        \n",
    "        pattern_eq = re.compile(r'^[0-9]+[+-][0-9]+')\n",
    "     \n",
    "        equation = pattern_eq.findall(eq)\n",
    "       \n",
    "        pattern_val = re.compile(r'=-?[0-9]+$')\n",
    "        value = pattern_val.findall(eq)\n",
    "        new_value = value[0].replace(\"=\",\"\")\n",
    "        if (eval(equation[0]) == int(new_value)):\n",
    "            total_correct_val += 1\n",
    "    correct_percentage = int(round((total_correct_val/len(eq_lst_val)) * 100, 0))\n",
    "    return str(correct_percentage) + '%'\n",
    "\n",
    "mark_maths([\"2+2=4\", \"3+2=5\", \"10-3=3\", \"5+5=10\"]) "
   ]
  },
  {
   "cell_type": "code",
   "execution_count": 41,
   "metadata": {},
   "outputs": [
    {
     "data": {
      "text/plain": [
       "False"
      ]
     },
     "execution_count": 41,
     "metadata": {},
     "output_type": "execute_result"
    }
   ],
   "source": [
    "#4. There are two players, Alice and Bob, each with a 3-by-3 grid. A referee tells Alice to fill out one particular row \n",
    "#in the grid (say the second row) by putting either a 1 or a 0 in each box, such that the sum of the numbers in that \n",
    "#row is odd. The referee tells Bob to fill out one column in the grid (say the first column) by putting either a 1 \n",
    "#or a 0 in each box, such that the sum of the numbers in that column is even.\n",
    "\n",
    "def magic_square_game(alice_lst_val, bob_lst_val):\n",
    "    grid= [['','',''], ['','',''], ['','','']]\n",
    "\n",
    "    odd_count = 0\n",
    "    even_count = 0\n",
    "    #alice data add to row of grid\n",
    "    for i in range(0,3):\n",
    "        grid[alice_lst_val[0]-1][i] =alice_lst_val[1][i]\n",
    "        if (alice_lst_val[1][i] == '1'):\n",
    "            odd_count += 1\n",
    "    if (odd_count % 2 ==0):\n",
    "        return False\n",
    "        \n",
    "    #Bob data add to col of grid\n",
    "    for i in range(0,3):\n",
    "        if (grid[i][bob_lst_val[0]-1] == ''):\n",
    "            grid[i][bob_lst_val[0]-1] = bob_lst_val[1][i]\n",
    "        elif (grid[i][bob_lst_val[0]-1] != bob_lst_val[1][i]):            \n",
    "            return False\n",
    "        \n",
    "        if (bob_lst_val[1][i] == '1'):\n",
    "            even_count += 1\n",
    "    \n",
    "    if (even_count % 2 !=0):\n",
    "        return False\n",
    "    return True\n",
    "\n",
    "magic_square_game([1, \"010\"], [3, \"101\"])  \n",
    "    \n"
   ]
  },
  {
   "cell_type": "code",
   "execution_count": 46,
   "metadata": {},
   "outputs": [
    {
     "data": {
      "text/plain": [
       "'0h 38min 34s'"
      ]
     },
     "execution_count": 46,
     "metadata": {},
     "output_type": "execute_result"
    }
   ],
   "source": [
    "#5. From point A, an object is moving towards point B at constant velocity va (in km/hr). From point B, another object \n",
    "#is moving towards point A at constant velocity vb (in km/hr). Knowing this and the distance between point A and B (in km), \n",
    "# write a function that returns how much time passes until both objects meet.\n",
    "\n",
    "def lets_meet(distance, velocity_obj1, velocity_obj2):\n",
    "    meeting_time = distance/(velocity_obj1 + velocity_obj2)\n",
    "    hours = int(meeting_time)\n",
    "    ms = (meeting_time - hours) * 60\n",
    "    minutes = int(ms)\n",
    "    s = (ms - minutes) * 60\n",
    "    seconds = int(s)\n",
    "    time = f\"{hours}h {minutes}min {seconds}s\"\n",
    "    return time\n",
    "lets_meet(90, 75, 65)   "
   ]
  },
  {
   "cell_type": "code",
   "execution_count": null,
   "metadata": {},
   "outputs": [],
   "source": []
  }
 ],
 "metadata": {
  "kernelspec": {
   "display_name": "Python 3",
   "language": "python",
   "name": "python3"
  },
  "language_info": {
   "codemirror_mode": {
    "name": "ipython",
    "version": 3
   },
   "file_extension": ".py",
   "mimetype": "text/x-python",
   "name": "python",
   "nbconvert_exporter": "python",
   "pygments_lexer": "ipython3",
   "version": "3.8.5"
  }
 },
 "nbformat": 4,
 "nbformat_minor": 4
}
