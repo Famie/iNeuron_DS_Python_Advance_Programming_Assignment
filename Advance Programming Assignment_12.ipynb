{
 "cells": [
  {
   "cell_type": "markdown",
   "metadata": {},
   "source": [
    "# Advance Programming Assignment 12"
   ]
  },
  {
   "cell_type": "code",
   "execution_count": 24,
   "metadata": {},
   "outputs": [
    {
     "data": {
      "text/plain": [
       "31499"
      ]
     },
     "execution_count": 24,
     "metadata": {},
     "output_type": "execute_result"
    }
   ],
   "source": [
    "#1. For this challenge, forget how to add two numbers together. The best explanation on what to do \n",
    "#for this function is this meme:\n",
    "def meme_sum(a, b):\n",
    "    a_str = str(a)\n",
    "    b_str = str(b)\n",
    "    total = ''\n",
    "    c = 0\n",
    "    if (len(a_str) < len(b_str)):\n",
    "        c = len(b_str) - len(a_str)\n",
    "        a_str = ((c*'0') + a_str)\n",
    "    elif (len(a_str) > len(b_str)):\n",
    "        c = len(a_str) - len(b_str)\n",
    "        b_str = ((c*'0') + b_str)    \n",
    "    for i in range(0,len(a_str)):\n",
    "        total = total + str(int(a_str[i]) + int(b_str[i]))\n",
    "    return int(total)\n",
    "meme_sum(1222, 30277) \n",
    "            "
   ]
  },
  {
   "cell_type": "code",
   "execution_count": 27,
   "metadata": {},
   "outputs": [
    {
     "data": {
      "text/plain": [
       "11"
      ]
     },
     "execution_count": 27,
     "metadata": {},
     "output_type": "execute_result"
    }
   ],
   "source": [
    "#2. Given an integer, create a function that returns the next prime. If the number is prime, return the number itself.\n",
    "def next_prime(num):\n",
    "    is_prime = True\n",
    "    while(True):\n",
    "        is_prime = True\n",
    "        for i in range(2, num):\n",
    "            if (num % i == 0):\n",
    "                is_prime = False\n",
    "                break\n",
    "        if is_prime :\n",
    "            return num\n",
    "        else:\n",
    "           num +=1 \n",
    "next_prime(11) "
   ]
  },
  {
   "cell_type": "code",
   "execution_count": 31,
   "metadata": {},
   "outputs": [
    {
     "data": {
      "text/plain": [
       "12.0"
      ]
     },
     "execution_count": 31,
     "metadata": {},
     "output_type": "execute_result"
    }
   ],
   "source": [
    "#3. If a person traveled up a hill for 18mins at 20mph and then traveled back down the same path at 60mph \n",
    "# then their average speed traveled was 30mph.\n",
    "\n",
    "def ave_spd(time1, speed1, speed2):\n",
    "    #convert time from minute to hour\n",
    "    time1_in_h = time1/60\n",
    "    distance1 = time1_in_h * speed1\n",
    "    \n",
    "    distance2 = distance1\n",
    "    time2_in_h = distance2/speed2 \n",
    "    \n",
    "    average_speed = (distance1 + distance2)/(time1_in_h + time2_in_h)\n",
    "    return average_speed\n",
    "ave_spd(30, 8, 24)"
   ]
  },
  {
   "cell_type": "code",
   "execution_count": 40,
   "metadata": {},
   "outputs": [
    {
     "data": {
      "text/plain": [
       "5"
      ]
     },
     "execution_count": 40,
     "metadata": {},
     "output_type": "execute_result"
    }
   ],
   "source": [
    "#4. The Kempner Function, applied to a composite number, permits to find the smallest integer greater than zero \n",
    "# whose factorial is exactly divided by the number.\n",
    "def fact(num):\n",
    "    if (num == 0 or num ==1):\n",
    "        return 1\n",
    "    else:\n",
    "        return num * fact(num - 1)\n",
    "    \n",
    "\n",
    "def kempner(num):\n",
    "    counter = 0\n",
    "    while(True):\n",
    "        if (fact(counter) % num ==0):\n",
    "            return counter\n",
    "        counter += 1\n",
    "kempner(10)"
   ]
  },
  {
   "cell_type": "code",
   "execution_count": 12,
   "metadata": {},
   "outputs": [
    {
     "data": {
      "text/plain": [
       "5"
      ]
     },
     "execution_count": 12,
     "metadata": {},
     "output_type": "execute_result"
    }
   ],
   "source": [
    "#5. You work in a factory, and your job is to take items from a conveyor belt and pack them into boxes. \n",
    "# Each box can hold a maximum of 10 kgs.\n",
    "\n",
    "def boxes(lst_val):\n",
    "    num_of_box = 0\n",
    "    total_weight = 0    \n",
    "    for i in range(0, len(lst_val)):            \n",
    "        total_weight += lst_val[i]\n",
    "        if (total_weight > 10) :\n",
    "            num_of_box +=1            \n",
    "            total_weight = lst_val[i]            \n",
    "        elif (i == (len(lst_val)-1)):\n",
    "            num_of_box +=1        \n",
    "    return num_of_box\n",
    "boxes([2, 1, 2, 5, 4, 3, 6, 1, 1, 9, 3, 2])"
   ]
  },
  {
   "cell_type": "code",
   "execution_count": null,
   "metadata": {},
   "outputs": [],
   "source": []
  }
 ],
 "metadata": {
  "kernelspec": {
   "display_name": "Python 3",
   "language": "python",
   "name": "python3"
  },
  "language_info": {
   "codemirror_mode": {
    "name": "ipython",
    "version": 3
   },
   "file_extension": ".py",
   "mimetype": "text/x-python",
   "name": "python",
   "nbconvert_exporter": "python",
   "pygments_lexer": "ipython3",
   "version": "3.8.5"
  }
 },
 "nbformat": 4,
 "nbformat_minor": 4
}
