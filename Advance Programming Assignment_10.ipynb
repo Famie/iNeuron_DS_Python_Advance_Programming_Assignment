{
 "cells": [
  {
   "cell_type": "markdown",
   "metadata": {},
   "source": [
    "# Advance Programming Assignment 10"
   ]
  },
  {
   "cell_type": "code",
   "execution_count": 9,
   "metadata": {},
   "outputs": [
    {
     "data": {
      "text/plain": [
       "'invalid'"
      ]
     },
     "execution_count": 9,
     "metadata": {},
     "output_type": "execute_result"
    }
   ],
   "source": [
    "#1. Create a function that takes the width, height and character and returns a picture frame as a 2D list.\n",
    "def get_frame(width, height, char):\n",
    "    if (width <=2):\n",
    "        return \"invalid\"\n",
    "    frame = []\n",
    "    for i in range (0, height):\n",
    "        if (i==0) or (i == height-1):\n",
    "            frame.append([char*width])        \n",
    "        else:\n",
    "            frame.append([char + (' ' * (width-2)) + char])\n",
    "    return frame\n",
    "\n",
    "get_frame(2, 5, \"0\")\n",
    "    "
   ]
  },
  {
   "cell_type": "code",
   "execution_count": 36,
   "metadata": {},
   "outputs": [
    {
     "data": {
      "text/plain": [
       "False"
      ]
     },
     "execution_count": 36,
     "metadata": {},
     "output_type": "execute_result"
    }
   ],
   "source": [
    "#2.  Write three functions: These functions should evaluate a list of True and False values, starting from the \n",
    "# leftmost element and evaluating pairwise.\n",
    "def boolean_and(lst_val):\n",
    "    tmp_lst_val = []\n",
    "    if(len(lst_val) == 1):\n",
    "        return lst_val[0]\n",
    "    else:\n",
    "        for i in range(0, len(lst_val)-1):\n",
    "            tmp_lst_val.append((lst_val[i] and lst_val[i+1]))\n",
    "        print(tmp_lst_val)\n",
    "        return boolean_and(tmp_lst_val)\n",
    "\n",
    "def boolean_or(lst_val):\n",
    "    tmp_lst_val = []\n",
    "    if(len(lst_val) == 1):\n",
    "        return lst_val[0]\n",
    "    else:        \n",
    "        for i in range(0, len(lst_val)-1):\n",
    "            tmp_lst_val.append((lst_val[i] or lst_val[i+1]))        \n",
    "        return boolean_or(tmp_lst_val)\n",
    "def boolean_xor(lst_val):\n",
    "    tmp_lst_val = []\n",
    "    if(len(lst_val) == 1):\n",
    "        return lst_val[0]\n",
    "    else:        \n",
    "        for i in range(0, len(lst_val)-1):\n",
    "            tmp_lst_val.append((lst_val[i] ^ lst_val[i+1]))        \n",
    "        return boolean_xor(tmp_lst_val)\n",
    "\n",
    "boolean_xor([True, True, False, False])    "
   ]
  },
  {
   "cell_type": "code",
   "execution_count": 21,
   "metadata": {},
   "outputs": [
    {
     "data": {
      "text/plain": [
       "['#####', '#   #', '#   #', '#   #', '#####']"
      ]
     },
     "execution_count": 21,
     "metadata": {},
     "output_type": "execute_result"
    }
   ],
   "source": [
    "#3. Create a function that creates a box based on dimension n.\n",
    "def make_box(n):\n",
    "    box = []\n",
    "    width = n\n",
    "    height = n\n",
    "    char = \"#\"\n",
    "    for i in range (0, height):\n",
    "        if (i==0) or (i == height-1):\n",
    "            box.append(char*width)        \n",
    "        else:\n",
    "            box.append(char + (' ' * (width-2)) + char)\n",
    "    return box\n",
    "make_box(5)"
   ]
  },
  {
   "cell_type": "code",
   "execution_count": 15,
   "metadata": {},
   "outputs": [
    {
     "data": {
      "text/plain": [
       "False"
      ]
     },
     "execution_count": 15,
     "metadata": {},
     "output_type": "execute_result"
    }
   ],
   "source": [
    "#4. Given a common phrase, return False if any individual word in the phrase contains duplicate letters. Return True otherwise.\n",
    "def is_duplicate_char(word):\n",
    "    for char in word:\n",
    "        if (word.count(char)> 1):\n",
    "            return True\n",
    "    return False\n",
    "def no_duplicate_letters(phrase):\n",
    "    phrase_lst_val = phrase.split(' ')\n",
    "    for word in phrase_lst_val:\n",
    "        if is_duplicate_char(word):\n",
    "            return False\n",
    "    return True\n",
    "no_duplicate_letters(\"An apple a day keeps the doctor away.\")"
   ]
  },
  {
   "cell_type": "code",
   "execution_count": 24,
   "metadata": {},
   "outputs": [
    {
     "data": {
      "text/plain": [
       "['California', 'Florida']"
      ]
     },
     "execution_count": 24,
     "metadata": {},
     "output_type": "execute_result"
    }
   ],
   "source": [
    "#5. Write a regular expression that will match the states that voted yes to President Trump's impeachment. You must \n",
    "# use RegEx positive lookahead.\n",
    "import re\n",
    "\n",
    "txt = \"Texas = no, California = yes, Florida = yes, Michigan = no\"\n",
    "pattern = \"[A-Za-z]+(?= \\= yes)\"\n",
    "\n",
    "re.findall(pattern, txt)\n"
   ]
  },
  {
   "cell_type": "code",
   "execution_count": null,
   "metadata": {},
   "outputs": [],
   "source": []
  }
 ],
 "metadata": {
  "kernelspec": {
   "display_name": "Python 3",
   "language": "python",
   "name": "python3"
  },
  "language_info": {
   "codemirror_mode": {
    "name": "ipython",
    "version": 3
   },
   "file_extension": ".py",
   "mimetype": "text/x-python",
   "name": "python",
   "nbconvert_exporter": "python",
   "pygments_lexer": "ipython3",
   "version": "3.8.5"
  }
 },
 "nbformat": 4,
 "nbformat_minor": 4
}
